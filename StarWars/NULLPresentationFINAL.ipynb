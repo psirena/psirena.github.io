{
 "cells": [
  {
   "cell_type": "markdown",
   "id": "a7b58cd5",
   "metadata": {},
   "source": [
    "### Group NULL\n",
    "#### Bryson Adcock, Brooke Arnold, Sam Bornstein, Paul Sirena"
   ]
  },
  {
   "cell_type": "markdown",
   "id": "b9db9774",
   "metadata": {},
   "source": [
    "# Star Wars Action Figure Analysis"
   ]
  },
  {
   "cell_type": "markdown",
   "id": "c3061e6e",
   "metadata": {},
   "source": [
    "The Star Wars universe has arguably the most detail of any universe in movie history. Each character has a name and backstory regardless of what their role is in the story.\n",
    "\n",
    "To add to this detail, just about every character has been made into an action figure. Star Wars is well known for revolutionizing the toy industry, mainly with their 3.75” linesoriginally made by Kenner and later Hasbro.\n",
    "\n",
    "We will be investigating data on every 3.75” action figure ever made and seeing what trends we can find from the character, species, and planet data."
   ]
  },
  {
   "cell_type": "markdown",
   "id": "ba296096",
   "metadata": {},
   "source": [
    "### Data Collection"
   ]
  },
  {
   "cell_type": "markdown",
   "id": "1c8c36e5",
   "metadata": {},
   "source": [
    "Our data comes from two main sources. For characters, species, and planets, we have data from Kaggle that originally came from the Star Wars API. This was available on the Star Wars Wiki and is no longer available. For data on action figures, the master list from jedibusiness.com was used. Here are links to all four datasets:\n",
    "- https://www.kaggle.com/jsphyg/star-wars?select=characters.csv\n",
    "- https://www.kaggle.com/jsphyg/star-wars?select=planets.csv\n",
    "- https://www.kaggle.com/jsphyg/star-wars?select=species.csv\n",
    "- https://jedibusiness.com/MasterList\n",
    "\n",
    "We also created our own dataset to supplement our information on each character from Kaggle.  We felt this information would be necessary to understand whether a character was made into an action figure. With only 87 characters in the Kaggle Dataset, this was not too difficult to gather ourselves.  The dataset includes the columns:\n",
    "- Jedi: whether the character is a Jedi\n",
    "- Sith: whether the character is a Sith\n",
    "- Hero: whether the character is a Hero (member of Galactic Republic, Rebels, Resistance, etc.)\n",
    "- Villain: whether the character is a Villain (member of Empire, Separatists, First Order, etc.)\n",
    "- BountyHunter: whether the character is a bounty hunter\n",
    "- Neutral: whether the character is neutral to the story conflict\n",
    "- OriginalTril: whether the character appeared in the Original Trilogy (Episodes 4, 5, and 6)\n",
    "- PrequelTril: whether the character appeared in the Prequel Trilogy (Episodes 1, 2, and 3)\n",
    "- SequelTril: whether the character appeared in the Sequel Trilogy (Episodes 7, 8, and 9)\n",
    "- Movies: the number of movies the character appeared in"
   ]
  },
  {
   "cell_type": "markdown",
   "id": "6c6b86b0",
   "metadata": {},
   "source": [
    "## Research Questions\n",
    "\n",
    "1. Who are the most frequently produced characters?\n",
    "2. What are the most popular characteristics of action figures?\n",
    "3. How do the toylines differ from one another?\n",
    "4. Can we predict how many figures will be made of a character?"
   ]
  },
  {
   "cell_type": "markdown",
   "id": "411556af",
   "metadata": {},
   "source": [
    "### Data Cleaning\n",
    "We first read in all of our datasets from our various locations."
   ]
  },
  {
   "cell_type": "code",
   "execution_count": 1,
   "id": "ba17db57",
   "metadata": {},
   "outputs": [],
   "source": [
    "import pandas as pd\n",
    "from ipywidgets import widgets, interactive, Layout\n",
    "from sklearn.linear_model import LogisticRegression\n",
    "from sklearn.model_selection import train_test_split"
   ]
  },
  {
   "cell_type": "code",
   "execution_count": 2,
   "id": "676e918b",
   "metadata": {},
   "outputs": [],
   "source": [
    "# Read csv containing information from Kaggle dataset\n",
    "characters = pd.read_csv(\"data/characters.csv\")\n",
    "planets = pd.read_csv(\"data/planets.csv\")\n",
    "species = pd.read_csv(\"data/species.csv\")\n",
    "\n",
    "# Read csv containing extra information on characters that we felt would be helpful\n",
    "characters_extra = pd.read_csv(\"data/characters_extra_info.csv\")\n",
    "\n",
    "# Read csv containing action figure data from jedibusiness.com/MasterList\n",
    "actionFigures = pd.read_csv(\"data/JediBusinessFigures.csv\")"
   ]
  },
  {
   "cell_type": "markdown",
   "id": "1c2c5a8d",
   "metadata": {},
   "source": [
    "First, we cleaned `actionFigures` by removing unnecessary columns, filling missing values and changing the datatype of the column `Year`.  We also edited the name of one the action figures so that it matched the name of all the other action figures of the character."
   ]
  },
  {
   "cell_type": "code",
   "execution_count": 3,
   "id": "bc7cac7d",
   "metadata": {},
   "outputs": [],
   "source": [
    "# This column became irrelevant because we only wanted to look at the 3.75\" figures so having the column is unnecessary.\n",
    "actionFigures = actionFigures.drop(['Size'],axis=1)\n",
    "actionFigures\n",
    "\n",
    "# Assign 2018 to year for the missing value in the year column for a figure from the SOLO: A Star\n",
    "#  Wars Story toyline. This was the only missing value in the column.\n",
    "actionFigures.Year = actionFigures.Year.fillna(2018)\n",
    "\n",
    "# Cast Year to integer datatype\n",
    "actionFigures.Year = actionFigures.Year.astype(int)\n",
    "\n",
    "# Only one figure of Emperor Palpatine had the word Emperor in the name. The rest all had just \n",
    "#  'Palpatine (Darth Sidious)', so we changed this value so it was not left out despite being \n",
    "#  the same character.\n",
    "actionFigures['Name'].replace({'Emperor Palpatine (Darth Sidious)':'Palpatine (Darth Sidious)'}, inplace = True)"
   ]
  },
  {
   "cell_type": "markdown",
   "id": "54bf18a6",
   "metadata": {},
   "source": [
    "Next, we handled several issues with `characters`. We filled missing values in the categorical columns with new categories, altered some names to ensure they will not be missed when joining in action figure data, and changed the datatype of the mass column. We also added new columns of information from the file `characters_extra_info.csv` which we created to add extra information that was not in our dataset but we felt would be a good supplement to the information we had."
   ]
  },
  {
   "cell_type": "code",
   "execution_count": 4,
   "id": "12155aeb",
   "metadata": {},
   "outputs": [],
   "source": [
    "# Assign values to missing data after checking what rows had data missing\n",
    "# (i.e. droids with NaN gender or hair_color were changed to none)\n",
    "characters.homeworld = characters.homeworld.fillna('Unknown')\n",
    "characters.species = characters.species.fillna('Unknown')\n",
    "characters.birth_year = characters.birth_year.fillna('Unknown')\n",
    "characters.eye_color = characters.eye_color.fillna('Unknown')\n",
    "characters.skin_color = characters.skin_color.fillna('Unknown')\n",
    "characters.gender = characters.gender.fillna('none')\n",
    "characters.hair_color = characters.hair_color.fillna('none')\n",
    "\n",
    "# Change the datatype of the character's mass to a float rather than a string.\n",
    "characters.mass = characters.mass.astype('float')\n",
    "\n",
    "# Join in the new information we gathered to supplement our information on each character.\n",
    "characters_full = characters.join(characters_extra.set_index(\"name\"), on = 'name')\n",
    "\n",
    "# Used to normalize different variations of a characters name between the\n",
    "#  characters data and action figure data.\n",
    "characters_full[\"name\"].replace({\"Leia Organa\": \"Princess Leia Organa\", \n",
    "                                 \"Grievous\": \"General Grievous\",\n",
    "                                 \"Palpatine\": \"Palpatine (Darth Sidious)\",\n",
    "                                 \"Beru Whitesun lars\":\"Beru Whitesun\",\n",
    "                                 \"Wilhuff Tarkin\":\"Grand Moff Tarkin\",\n",
    "                                 \"Jabba Desilijic Tiure\":\"Jabba The Hutt\",\n",
    "                                 \"Jek Tono Porkins\":\"Jek Porkins\",\n",
    "                                 \"Ackbar\":\"Admiral Ackbar\",\n",
    "                                 \"Wicket Systri Warrick\":\"Wicket\",\n",
    "                                 \"Roos Tarpals\":\"Captain Tarpals\",\n",
    "                                 \"Rugor Nass\":\"Boss Nass\",\n",
    "                                 \"Ric Olié\":\"Ric Olie\",\n",
    "                                 \"Quarsh Panaka\":\"Captain Panaka\",\n",
    "                                 \"Ayla Secura\":\"Aayla Secura\",\n",
    "                                 \"Ki-Adi-Mundi\":\"Ki-Adi Mundi\",\n",
    "                                 \"Gregar Typho\":\"Captain Typho\",\n",
    "                                 \"Poggle the Lesser\":\"Poggle The Lesser\",\n",
    "                                 \"Dooku\":\"Count Dooku\",\n",
    "                                 \"Bail Prestor Organa\":\"Bail Organa\",\n",
    "                                 \"BB8\":\"BB-8\"}, inplace=True)"
   ]
  },
  {
   "cell_type": "markdown",
   "id": "26e7c1b8",
   "metadata": {},
   "source": [
    "Finally, we joined all our datasets so all the characters information is attached to its respective action figures.  We also saved the dataset to a new file `all_data.csv` and our updated characters dataset with our new data added to a file `characters_updated.csv`."
   ]
  },
  {
   "cell_type": "code",
   "execution_count": 5,
   "id": "e21e0e4f",
   "metadata": {},
   "outputs": [],
   "source": [
    "# Join character information to figures dataset on an inner join so that each figure can have all information about the \n",
    "#  character. Inner join to only keep matches\n",
    "figCharJoin = actionFigures.join(characters_full.set_index(\"name\"), on = 'Name', how='inner', lsuffix='_fig', rsuffix='_char')\n",
    "\n",
    "# Add home planet information for figure character pairs.\n",
    "figCharHWJoin = figCharJoin.join(planets.set_index(\"name\"), on = 'homeworld', how='left', rsuffix='_homeworld')\n",
    "\n",
    "# Add species information for matched character to figure pairs\n",
    "all_data_df = figCharHWJoin.join(species.set_index(\"name\"), on = 'species', how='left', rsuffix='_species')\n",
    "\n",
    "# Reset the index\n",
    "all_data_df = all_data_df.reset_index().drop(columns=['index'])"
   ]
  },
  {
   "cell_type": "code",
   "execution_count": 6,
   "id": "dadc5739",
   "metadata": {},
   "outputs": [],
   "source": [
    "# Saved our new joined dataframe to its own csv file\n",
    "all_data_df.to_csv(\"data/all_data.csv\",index=False)\n",
    "\n",
    "# Saved our characters dataset with the new information into its own csv file\n",
    "characters_full.to_csv(\"data/characters_updated.csv\",index=False)"
   ]
  },
  {
   "cell_type": "markdown",
   "id": "7a662751",
   "metadata": {},
   "source": [
    "### Data Info"
   ]
  },
  {
   "cell_type": "code",
   "execution_count": 7,
   "id": "1a97f55b",
   "metadata": {},
   "outputs": [
    {
     "name": "stdout",
     "output_type": "stream",
     "text": [
      "<class 'pandas.core.frame.DataFrame'>\n",
      "RangeIndex: 1446 entries, 0 to 1445\n",
      "Data columns (total 41 columns):\n",
      " #   Column             Non-Null Count  Dtype  \n",
      "---  ------             --------------  -----  \n",
      " 0   Name               1446 non-null   object \n",
      " 1   Title              1422 non-null   object \n",
      " 2   Year               1446 non-null   int64  \n",
      " 3   Toyline            1446 non-null   object \n",
      " 4   Brand              1446 non-null   object \n",
      " 5   height             1367 non-null   float64\n",
      " 6   mass               1313 non-null   float64\n",
      " 7   hair_color         1446 non-null   object \n",
      " 8   skin_color         1446 non-null   object \n",
      " 9   eye_color          1446 non-null   object \n",
      " 10  birth_year         1446 non-null   object \n",
      " 11  gender             1446 non-null   object \n",
      " 12  homeworld          1446 non-null   object \n",
      " 13  species            1446 non-null   object \n",
      " 14  Jedi               1446 non-null   int64  \n",
      " 15  Sith               1446 non-null   int64  \n",
      " 16  Hero               1446 non-null   int64  \n",
      " 17  Villain            1446 non-null   int64  \n",
      " 18  BountyHunter       1446 non-null   int64  \n",
      " 19  Neutral            1446 non-null   int64  \n",
      " 20  OriginalTril       1446 non-null   int64  \n",
      " 21  PrequelTril        1446 non-null   int64  \n",
      " 22  SequelTril         1446 non-null   int64  \n",
      " 23  Movies             1446 non-null   int64  \n",
      " 24  rotation_period    1114 non-null   float64\n",
      " 25  orbital_period     1114 non-null   float64\n",
      " 26  diameter           1190 non-null   float64\n",
      " 27  climate            1218 non-null   object \n",
      " 28  gravity            1215 non-null   object \n",
      " 29  terrain            1257 non-null   object \n",
      " 30  surface_water      917 non-null    float64\n",
      " 31  population         1087 non-null   float64\n",
      " 32  classification     1398 non-null   object \n",
      " 33  designation        1429 non-null   object \n",
      " 34  average_height     1294 non-null   float64\n",
      " 35  skin_colors        1297 non-null   object \n",
      " 36  hair_colors        1281 non-null   object \n",
      " 37  eye_colors         1295 non-null   object \n",
      " 38  average_lifespan   1271 non-null   object \n",
      " 39  language           1295 non-null   object \n",
      " 40  homeworld_species  1244 non-null   object \n",
      "dtypes: float64(8), int64(11), object(22)\n",
      "memory usage: 463.3+ KB\n"
     ]
    }
   ],
   "source": [
    "all_data_df.columns\n",
    "all_data_df.info()"
   ]
  },
  {
   "cell_type": "markdown",
   "id": "95538ac9",
   "metadata": {},
   "source": [
    "#### Variable distributions"
   ]
  },
  {
   "cell_type": "code",
   "execution_count": 8,
   "id": "407392be",
   "metadata": {
    "scrolled": false
   },
   "outputs": [
    {
     "data": {
      "text/plain": [
       "<AxesSubplot:title={'center':'Height Histogram'}, ylabel='Frequency'>"
      ]
     },
     "execution_count": 8,
     "metadata": {},
     "output_type": "execute_result"
    },
    {
     "data": {
      "image/png": "[encoded data removed]",
      "text/plain": [
       "<Figure size 1080x360 with 1 Axes>"
      ]
     },
     "metadata": {
      "needs_background": "light"
     },
     "output_type": "display_data"
    }
   ],
   "source": [
    "all_data_df.height.plot(kind=\"hist\", bins=100, figsize=(15,5), title=\"Height Histogram\")"
   ]
  },
  {
   "cell_type": "code",
   "execution_count": 9,
   "id": "8a0b90d2",
   "metadata": {},
   "outputs": [
    {
     "data": {
      "text/plain": [
       "<AxesSubplot:title={'center':'Mass Histogram'}, ylabel='Frequency'>"
      ]
     },
     "execution_count": 9,
     "metadata": {},
     "output_type": "execute_result"
    },
    {
     "data": {
      "image/png": "[encoded data removed]",
      "text/plain": [
       "<Figure size 1080x360 with 1 Axes>"
      ]
     },
     "metadata": {
      "needs_background": "light"
     },
     "output_type": "display_data"
    }
   ],
   "source": [
    "all_data_df.mass.plot(kind=\"hist\", bins=100, figsize=(15,5), title = \"Mass Histogram\")"
   ]
  },
  {
   "cell_type": "code",
   "execution_count": 10,
   "id": "45c9f344",
   "metadata": {},
   "outputs": [
    {
     "data": {
      "text/plain": [
       "<AxesSubplot:title={'center':'Planet Rotation Period Histogram'}, ylabel='Frequency'>"
      ]
     },
     "execution_count": 10,
     "metadata": {},
     "output_type": "execute_result"
    },
    {
     "data": {
      "image/png": "[encoded data removed]",
      "text/plain": [
       "<Figure size 1080x360 with 1 Axes>"
      ]
     },
     "metadata": {
      "needs_background": "light"
     },
     "output_type": "display_data"
    }
   ],
   "source": [
    "all_data_df.rotation_period.plot(kind=\"hist\", bins=100, figsize=(15,5), title = \"Planet Rotation Period Histogram\")"
   ]
  },
  {
   "cell_type": "code",
   "execution_count": 11,
   "id": "93d820db",
   "metadata": {},
   "outputs": [
    {
     "data": {
      "text/plain": [
       "<AxesSubplot:title={'center':'Planet Orbital Period Histogram'}, ylabel='Frequency'>"
      ]
     },
     "execution_count": 11,
     "metadata": {},
     "output_type": "execute_result"
    },
    {
     "data": {
      "image/png": "[encoded data removed]",
      "text/plain": [
       "<Figure size 1080x360 with 1 Axes>"
      ]
     },
     "metadata": {
      "needs_background": "light"
     },
     "output_type": "display_data"
    }
   ],
   "source": [
    "all_data_df.orbital_period.plot(kind=\"hist\", bins=100, figsize=(15,5), title = \"Planet Orbital Period Histogram\")"
   ]
  },
  {
   "cell_type": "code",
   "execution_count": 12,
   "id": "13d62da1",
   "metadata": {},
   "outputs": [
    {
     "data": {
      "text/plain": [
       "<AxesSubplot:title={'center':'Planet Surface Water Histogram'}, ylabel='Frequency'>"
      ]
     },
     "execution_count": 12,
     "metadata": {},
     "output_type": "execute_result"
    },
    {
     "data": {
      "image/png": "[encoded data removed]",
      "text/plain": [
       "<Figure size 1080x360 with 1 Axes>"
      ]
     },
     "metadata": {
      "needs_background": "light"
     },
     "output_type": "display_data"
    }
   ],
   "source": [
    "all_data_df.surface_water.plot(kind=\"hist\", bins=100, figsize=(15,5), title = \"Planet Surface Water Histogram\")"
   ]
  },
  {
   "cell_type": "code",
   "execution_count": 13,
   "id": "5a0b3052",
   "metadata": {},
   "outputs": [
    {
     "data": {
      "text/plain": [
       "<AxesSubplot:title={'center':'Planet Population Histogram'}, ylabel='Frequency'>"
      ]
     },
     "execution_count": 13,
     "metadata": {},
     "output_type": "execute_result"
    },
    {
     "data": {
      "image/png": "[encoded data removed]",
      "text/plain": [
       "<Figure size 1080x360 with 1 Axes>"
      ]
     },
     "metadata": {
      "needs_background": "light"
     },
     "output_type": "display_data"
    }
   ],
   "source": [
    "all_data_df.population.plot(kind=\"hist\", bins=100, figsize=(15,5), title = \"Planet Population Histogram\")"
   ]
  },
  {
   "cell_type": "code",
   "execution_count": 14,
   "id": "0942d244",
   "metadata": {},
   "outputs": [
    {
     "data": {
      "text/plain": [
       "<AxesSubplot:xlabel='height', ylabel='mass'>"
      ]
     },
     "execution_count": 14,
     "metadata": {},
     "output_type": "execute_result"
    },
    {
     "data": {
      "image/png": "[encoded data removed]",
      "text/plain": [
       "<Figure size 504x504 with 1 Axes>"
      ]
     },
     "metadata": {
      "needs_background": "light"
     },
     "output_type": "display_data"
    }
   ],
   "source": [
    "all_data_df.plot(kind='scatter', x='height', y='mass', figsize=(7,7))"
   ]
  },
  {
   "cell_type": "code",
   "execution_count": 15,
   "id": "311ded3b",
   "metadata": {},
   "outputs": [
    {
     "data": {
      "text/plain": [
       "<AxesSubplot:xlabel='surface_water', ylabel='population'>"
      ]
     },
     "execution_count": 15,
     "metadata": {},
     "output_type": "execute_result"
    },
    {
     "data": {
      "image/png": "[encoded data removed]",
      "text/plain": [
       "<Figure size 504x504 with 1 Axes>"
      ]
     },
     "metadata": {
      "needs_background": "light"
     },
     "output_type": "display_data"
    }
   ],
   "source": [
    "all_data_df.plot(kind='scatter', x='surface_water', y='population', figsize=(7,7))"
   ]
  },
  {
   "cell_type": "code",
   "execution_count": 42,
   "id": "44fcdfe5",
   "metadata": {},
   "outputs": [
    {
     "data": {
      "text/html": [
       "<div>\n",
       "<style scoped>\n",
       "    .dataframe tbody tr th:only-of-type {\n",
       "        vertical-align: middle;\n",
       "    }\n",
       "\n",
       "    .dataframe tbody tr th {\n",
       "        vertical-align: top;\n",
       "    }\n",
       "\n",
       "    .dataframe thead th {\n",
       "        text-align: right;\n",
       "    }\n",
       "</style>\n",
       "<table border=\"1\" class=\"dataframe\">\n",
       "  <thead>\n",
       "    <tr style=\"text-align: right;\">\n",
       "      <th></th>\n",
       "      <th>Name</th>\n",
       "      <th>Title</th>\n",
       "      <th>Year</th>\n",
       "      <th>Toyline</th>\n",
       "      <th>Brand</th>\n",
       "      <th>height</th>\n",
       "      <th>mass</th>\n",
       "      <th>hair_color</th>\n",
       "      <th>skin_color</th>\n",
       "      <th>eye_color</th>\n",
       "      <th>...</th>\n",
       "      <th>population</th>\n",
       "      <th>classification</th>\n",
       "      <th>designation</th>\n",
       "      <th>average_height</th>\n",
       "      <th>skin_colors</th>\n",
       "      <th>hair_colors</th>\n",
       "      <th>eye_colors</th>\n",
       "      <th>average_lifespan</th>\n",
       "      <th>language</th>\n",
       "      <th>homeworld_species</th>\n",
       "    </tr>\n",
       "  </thead>\n",
       "  <tbody>\n",
       "    <tr>\n",
       "      <th>0</th>\n",
       "      <td>Aayla Secura</td>\n",
       "      <td>Jedi Knight</td>\n",
       "      <td>2005</td>\n",
       "      <td>Revenge Of The Sith Collection</td>\n",
       "      <td>Hasbro</td>\n",
       "      <td>178.0</td>\n",
       "      <td>55.0</td>\n",
       "      <td>none</td>\n",
       "      <td>blue</td>\n",
       "      <td>hazel</td>\n",
       "      <td>...</td>\n",
       "      <td>1.500000e+09</td>\n",
       "      <td>mammals</td>\n",
       "      <td>sentient</td>\n",
       "      <td>200.0</td>\n",
       "      <td>orange, yellow, blue, green, pink, purple, tan</td>\n",
       "      <td>none</td>\n",
       "      <td>blue, brown, orange, pink</td>\n",
       "      <td>NaN</td>\n",
       "      <td>Twi'leki</td>\n",
       "      <td>Ryloth</td>\n",
       "    </tr>\n",
       "    <tr>\n",
       "      <th>1</th>\n",
       "      <td>Aayla Secura</td>\n",
       "      <td>Revenge Of The Sith</td>\n",
       "      <td>2012</td>\n",
       "      <td>The Vintage Collection</td>\n",
       "      <td>Hasbro</td>\n",
       "      <td>178.0</td>\n",
       "      <td>55.0</td>\n",
       "      <td>none</td>\n",
       "      <td>blue</td>\n",
       "      <td>hazel</td>\n",
       "      <td>...</td>\n",
       "      <td>1.500000e+09</td>\n",
       "      <td>mammals</td>\n",
       "      <td>sentient</td>\n",
       "      <td>200.0</td>\n",
       "      <td>orange, yellow, blue, green, pink, purple, tan</td>\n",
       "      <td>none</td>\n",
       "      <td>blue, brown, orange, pink</td>\n",
       "      <td>NaN</td>\n",
       "      <td>Twi'leki</td>\n",
       "      <td>Ryloth</td>\n",
       "    </tr>\n",
       "    <tr>\n",
       "      <th>2</th>\n",
       "      <td>Aayla Secura</td>\n",
       "      <td>Includes Flight Gear!</td>\n",
       "      <td>2012</td>\n",
       "      <td>The Clone Wars Collection</td>\n",
       "      <td>Hasbro</td>\n",
       "      <td>178.0</td>\n",
       "      <td>55.0</td>\n",
       "      <td>none</td>\n",
       "      <td>blue</td>\n",
       "      <td>hazel</td>\n",
       "      <td>...</td>\n",
       "      <td>1.500000e+09</td>\n",
       "      <td>mammals</td>\n",
       "      <td>sentient</td>\n",
       "      <td>200.0</td>\n",
       "      <td>orange, yellow, blue, green, pink, purple, tan</td>\n",
       "      <td>none</td>\n",
       "      <td>blue, brown, orange, pink</td>\n",
       "      <td>NaN</td>\n",
       "      <td>Twi'leki</td>\n",
       "      <td>Ryloth</td>\n",
       "    </tr>\n",
       "    <tr>\n",
       "      <th>3</th>\n",
       "      <td>Aayla Secura</td>\n",
       "      <td>Battle Of Geonosis</td>\n",
       "      <td>2008</td>\n",
       "      <td>Star Wars SAGA Series</td>\n",
       "      <td>Hasbro</td>\n",
       "      <td>178.0</td>\n",
       "      <td>55.0</td>\n",
       "      <td>none</td>\n",
       "      <td>blue</td>\n",
       "      <td>hazel</td>\n",
       "      <td>...</td>\n",
       "      <td>1.500000e+09</td>\n",
       "      <td>mammals</td>\n",
       "      <td>sentient</td>\n",
       "      <td>200.0</td>\n",
       "      <td>orange, yellow, blue, green, pink, purple, tan</td>\n",
       "      <td>none</td>\n",
       "      <td>blue, brown, orange, pink</td>\n",
       "      <td>NaN</td>\n",
       "      <td>Twi'leki</td>\n",
       "      <td>Ryloth</td>\n",
       "    </tr>\n",
       "    <tr>\n",
       "      <th>4</th>\n",
       "      <td>Aayla Secura</td>\n",
       "      <td>Clone Wars</td>\n",
       "      <td>2010</td>\n",
       "      <td>The Clone Wars Collection</td>\n",
       "      <td>Hasbro</td>\n",
       "      <td>178.0</td>\n",
       "      <td>55.0</td>\n",
       "      <td>none</td>\n",
       "      <td>blue</td>\n",
       "      <td>hazel</td>\n",
       "      <td>...</td>\n",
       "      <td>1.500000e+09</td>\n",
       "      <td>mammals</td>\n",
       "      <td>sentient</td>\n",
       "      <td>200.0</td>\n",
       "      <td>orange, yellow, blue, green, pink, purple, tan</td>\n",
       "      <td>none</td>\n",
       "      <td>blue, brown, orange, pink</td>\n",
       "      <td>NaN</td>\n",
       "      <td>Twi'leki</td>\n",
       "      <td>Ryloth</td>\n",
       "    </tr>\n",
       "    <tr>\n",
       "      <th>...</th>\n",
       "      <td>...</td>\n",
       "      <td>...</td>\n",
       "      <td>...</td>\n",
       "      <td>...</td>\n",
       "      <td>...</td>\n",
       "      <td>...</td>\n",
       "      <td>...</td>\n",
       "      <td>...</td>\n",
       "      <td>...</td>\n",
       "      <td>...</td>\n",
       "      <td>...</td>\n",
       "      <td>...</td>\n",
       "      <td>...</td>\n",
       "      <td>...</td>\n",
       "      <td>...</td>\n",
       "      <td>...</td>\n",
       "      <td>...</td>\n",
       "      <td>...</td>\n",
       "      <td>...</td>\n",
       "      <td>...</td>\n",
       "      <td>...</td>\n",
       "    </tr>\n",
       "    <tr>\n",
       "      <th>1441</th>\n",
       "      <td>Yoda</td>\n",
       "      <td>The Jedi Master</td>\n",
       "      <td>1980</td>\n",
       "      <td>Vintage Empire Strikes Back</td>\n",
       "      <td>Kenner</td>\n",
       "      <td>66.0</td>\n",
       "      <td>17.0</td>\n",
       "      <td>white</td>\n",
       "      <td>green</td>\n",
       "      <td>brown</td>\n",
       "      <td>...</td>\n",
       "      <td>NaN</td>\n",
       "      <td>mammal</td>\n",
       "      <td>sentient</td>\n",
       "      <td>66.0</td>\n",
       "      <td>green, yellow</td>\n",
       "      <td>brown, white</td>\n",
       "      <td>brown, green, yellow</td>\n",
       "      <td>900</td>\n",
       "      <td>Galactic basic</td>\n",
       "      <td>NaN</td>\n",
       "    </tr>\n",
       "    <tr>\n",
       "      <th>1442</th>\n",
       "      <td>Yoda</td>\n",
       "      <td>The Jedi Master</td>\n",
       "      <td>1980</td>\n",
       "      <td>Vintage Empire Strikes Back</td>\n",
       "      <td>Kenner</td>\n",
       "      <td>66.0</td>\n",
       "      <td>17.0</td>\n",
       "      <td>white</td>\n",
       "      <td>green</td>\n",
       "      <td>brown</td>\n",
       "      <td>...</td>\n",
       "      <td>NaN</td>\n",
       "      <td>mammal</td>\n",
       "      <td>sentient</td>\n",
       "      <td>66.0</td>\n",
       "      <td>green, yellow</td>\n",
       "      <td>brown, white</td>\n",
       "      <td>brown, green, yellow</td>\n",
       "      <td>900</td>\n",
       "      <td>Galactic basic</td>\n",
       "      <td>NaN</td>\n",
       "    </tr>\n",
       "    <tr>\n",
       "      <th>1443</th>\n",
       "      <td>Zam Wesell</td>\n",
       "      <td>Attack Of The Clones</td>\n",
       "      <td>2011</td>\n",
       "      <td>The Vintage Collection</td>\n",
       "      <td>Hasbro</td>\n",
       "      <td>168.0</td>\n",
       "      <td>55.0</td>\n",
       "      <td>blonde</td>\n",
       "      <td>fair, green, yellow</td>\n",
       "      <td>yellow</td>\n",
       "      <td>...</td>\n",
       "      <td>NaN</td>\n",
       "      <td>reptilian</td>\n",
       "      <td>sentient</td>\n",
       "      <td>180.0</td>\n",
       "      <td>green, yellow</td>\n",
       "      <td>none</td>\n",
       "      <td>yellow</td>\n",
       "      <td>70</td>\n",
       "      <td>Clawdite</td>\n",
       "      <td>Zolan</td>\n",
       "    </tr>\n",
       "    <tr>\n",
       "      <th>1444</th>\n",
       "      <td>Zam Wesell</td>\n",
       "      <td>Sneak Preview</td>\n",
       "      <td>2002</td>\n",
       "      <td>Power Of The Jedi</td>\n",
       "      <td>Hasbro</td>\n",
       "      <td>168.0</td>\n",
       "      <td>55.0</td>\n",
       "      <td>blonde</td>\n",
       "      <td>fair, green, yellow</td>\n",
       "      <td>yellow</td>\n",
       "      <td>...</td>\n",
       "      <td>NaN</td>\n",
       "      <td>reptilian</td>\n",
       "      <td>sentient</td>\n",
       "      <td>180.0</td>\n",
       "      <td>green, yellow</td>\n",
       "      <td>none</td>\n",
       "      <td>yellow</td>\n",
       "      <td>70</td>\n",
       "      <td>Clawdite</td>\n",
       "      <td>Zolan</td>\n",
       "    </tr>\n",
       "    <tr>\n",
       "      <th>1445</th>\n",
       "      <td>Zam Wesell</td>\n",
       "      <td>Bounty Hunter</td>\n",
       "      <td>2002</td>\n",
       "      <td>Star Wars SAGA Series</td>\n",
       "      <td>Hasbro</td>\n",
       "      <td>168.0</td>\n",
       "      <td>55.0</td>\n",
       "      <td>blonde</td>\n",
       "      <td>fair, green, yellow</td>\n",
       "      <td>yellow</td>\n",
       "      <td>...</td>\n",
       "      <td>NaN</td>\n",
       "      <td>reptilian</td>\n",
       "      <td>sentient</td>\n",
       "      <td>180.0</td>\n",
       "      <td>green, yellow</td>\n",
       "      <td>none</td>\n",
       "      <td>yellow</td>\n",
       "      <td>70</td>\n",
       "      <td>Clawdite</td>\n",
       "      <td>Zolan</td>\n",
       "    </tr>\n",
       "  </tbody>\n",
       "</table>\n",
       "<p>1446 rows × 41 columns</p>\n",
       "</div>"
      ],
      "text/plain": [
       "              Name                  Title  Year  \\\n",
       "0     Aayla Secura            Jedi Knight  2005   \n",
       "1     Aayla Secura    Revenge Of The Sith  2012   \n",
       "2     Aayla Secura  Includes Flight Gear!  2012   \n",
       "3     Aayla Secura     Battle Of Geonosis  2008   \n",
       "4     Aayla Secura             Clone Wars  2010   \n",
       "...            ...                    ...   ...   \n",
       "1441          Yoda        The Jedi Master  1980   \n",
       "1442          Yoda        The Jedi Master  1980   \n",
       "1443    Zam Wesell   Attack Of The Clones  2011   \n",
       "1444    Zam Wesell          Sneak Preview  2002   \n",
       "1445    Zam Wesell          Bounty Hunter  2002   \n",
       "\n",
       "                             Toyline   Brand  height  mass hair_color  \\\n",
       "0     Revenge Of The Sith Collection  Hasbro   178.0  55.0       none   \n",
       "1             The Vintage Collection  Hasbro   178.0  55.0       none   \n",
       "2          The Clone Wars Collection  Hasbro   178.0  55.0       none   \n",
       "3              Star Wars SAGA Series  Hasbro   178.0  55.0       none   \n",
       "4          The Clone Wars Collection  Hasbro   178.0  55.0       none   \n",
       "...                              ...     ...     ...   ...        ...   \n",
       "1441     Vintage Empire Strikes Back  Kenner    66.0  17.0      white   \n",
       "1442     Vintage Empire Strikes Back  Kenner    66.0  17.0      white   \n",
       "1443          The Vintage Collection  Hasbro   168.0  55.0     blonde   \n",
       "1444               Power Of The Jedi  Hasbro   168.0  55.0     blonde   \n",
       "1445           Star Wars SAGA Series  Hasbro   168.0  55.0     blonde   \n",
       "\n",
       "               skin_color eye_color  ...    population classification  \\\n",
       "0                    blue     hazel  ...  1.500000e+09        mammals   \n",
       "1                    blue     hazel  ...  1.500000e+09        mammals   \n",
       "2                    blue     hazel  ...  1.500000e+09        mammals   \n",
       "3                    blue     hazel  ...  1.500000e+09        mammals   \n",
       "4                    blue     hazel  ...  1.500000e+09        mammals   \n",
       "...                   ...       ...  ...           ...            ...   \n",
       "1441                green     brown  ...           NaN         mammal   \n",
       "1442                green     brown  ...           NaN         mammal   \n",
       "1443  fair, green, yellow    yellow  ...           NaN      reptilian   \n",
       "1444  fair, green, yellow    yellow  ...           NaN      reptilian   \n",
       "1445  fair, green, yellow    yellow  ...           NaN      reptilian   \n",
       "\n",
       "     designation average_height  \\\n",
       "0       sentient          200.0   \n",
       "1       sentient          200.0   \n",
       "2       sentient          200.0   \n",
       "3       sentient          200.0   \n",
       "4       sentient          200.0   \n",
       "...          ...            ...   \n",
       "1441    sentient           66.0   \n",
       "1442    sentient           66.0   \n",
       "1443    sentient          180.0   \n",
       "1444    sentient          180.0   \n",
       "1445    sentient          180.0   \n",
       "\n",
       "                                         skin_colors   hair_colors  \\\n",
       "0     orange, yellow, blue, green, pink, purple, tan          none   \n",
       "1     orange, yellow, blue, green, pink, purple, tan          none   \n",
       "2     orange, yellow, blue, green, pink, purple, tan          none   \n",
       "3     orange, yellow, blue, green, pink, purple, tan          none   \n",
       "4     orange, yellow, blue, green, pink, purple, tan          none   \n",
       "...                                              ...           ...   \n",
       "1441                                   green, yellow  brown, white   \n",
       "1442                                   green, yellow  brown, white   \n",
       "1443                                   green, yellow          none   \n",
       "1444                                   green, yellow          none   \n",
       "1445                                   green, yellow          none   \n",
       "\n",
       "                     eye_colors  average_lifespan        language  \\\n",
       "0     blue, brown, orange, pink               NaN        Twi'leki   \n",
       "1     blue, brown, orange, pink               NaN        Twi'leki   \n",
       "2     blue, brown, orange, pink               NaN        Twi'leki   \n",
       "3     blue, brown, orange, pink               NaN        Twi'leki   \n",
       "4     blue, brown, orange, pink               NaN        Twi'leki   \n",
       "...                         ...               ...             ...   \n",
       "1441       brown, green, yellow               900  Galactic basic   \n",
       "1442       brown, green, yellow               900  Galactic basic   \n",
       "1443                     yellow                70        Clawdite   \n",
       "1444                     yellow                70        Clawdite   \n",
       "1445                     yellow                70        Clawdite   \n",
       "\n",
       "      homeworld_species  \n",
       "0                Ryloth  \n",
       "1                Ryloth  \n",
       "2                Ryloth  \n",
       "3                Ryloth  \n",
       "4                Ryloth  \n",
       "...                 ...  \n",
       "1441                NaN  \n",
       "1442                NaN  \n",
       "1443              Zolan  \n",
       "1444              Zolan  \n",
       "1445              Zolan  \n",
       "\n",
       "[1446 rows x 41 columns]"
      ]
     },
     "execution_count": 42,
     "metadata": {},
     "output_type": "execute_result"
    },
    {
     "data": {
      "image/png": "[encoded data removed]",
      "text/plain": [
       "<Figure size 720x360 with 1 Axes>"
      ]
     },
     "metadata": {
      "needs_background": "light"
     },
     "output_type": "display_data"
    }
   ],
   "source": [
    "all_data_df[[\"rotation_period\", \"orbital_period\"]].plot(kind=\"box\", vert=True, grid=True, figsize=(10,5), title=\"Height Distribution\")\n",
    "all_data_df"
   ]
  },
  {
   "cell_type": "markdown",
   "id": "548827fe",
   "metadata": {},
   "source": [
    "# Analysis\n",
    "\n",
    "#### What characters are most commonly made into action figures? Who is the most popular?"
   ]
  },
  {
   "cell_type": "code",
   "execution_count": 17,
   "id": "bbf77489",
   "metadata": {},
   "outputs": [
    {
     "data": {
      "text/plain": [
       "<AxesSubplot:title={'center':'Top 5 Most Popular Characters'}>"
      ]
     },
     "execution_count": 17,
     "metadata": {},
     "output_type": "execute_result"
    },
    {
     "data": {
      "image/png": "[encoded data removed]",
      "text/plain": [
       "<Figure size 360x360 with 1 Axes>"
      ]
     },
     "metadata": {},
     "output_type": "display_data"
    }
   ],
   "source": [
    "df = all_data_df.groupby(\"Name\").Title.count().sort_values(ascending=False).head()\n",
    "#df.plot(kind=\"bar\", grid=False, title=\"Most Popular Characters\")\n",
    "df.plot(kind=\"pie\", grid=False, title=\"Top 5 Most Popular Characters\", ylabel=\"\", figsize=(5,5), autopct='%.1f', fontsize=13)"
   ]
  },
  {
   "cell_type": "markdown",
   "id": "9aea538e",
   "metadata": {},
   "source": [
    "Taking the five most commonly made characters, the pie chart above shows what percentage of the total five that each character makes up."
   ]
  },
  {
   "cell_type": "markdown",
   "id": "dc67fb8d",
   "metadata": {},
   "source": [
    "#### What types of characters are the most common?"
   ]
  },
  {
   "cell_type": "code",
   "execution_count": 18,
   "id": "26d08cc4",
   "metadata": {},
   "outputs": [
    {
     "data": {
      "text/plain": [
       "<AxesSubplot:title={'center':'Classifications'}, xlabel='classification'>"
      ]
     },
     "execution_count": 18,
     "metadata": {},
     "output_type": "execute_result"
    },
    {
     "data": {
      "image/png": "[encoded data removed]",
      "text/plain": [
       "<Figure size 432x288 with 1 Axes>"
      ]
     },
     "metadata": {
      "needs_background": "light"
     },
     "output_type": "display_data"
    }
   ],
   "source": [
    "df = all_data_df.groupby(\"classification\").Title.count().sort_values(ascending=False)\n",
    "df.plot(kind=\"bar\", grid=False, title=\"Classifications\")"
   ]
  },
  {
   "cell_type": "markdown",
   "id": "7285b6c1",
   "metadata": {},
   "source": [
    "The above plot shows the 7 different types of characters in star wars, ordered by most common. We see that mammals are the most popular, though they are also the most prominent in the movies."
   ]
  },
  {
   "cell_type": "markdown",
   "id": "c60c81c6",
   "metadata": {},
   "source": [
    "#### Which species are the most common?"
   ]
  },
  {
   "cell_type": "code",
   "execution_count": 19,
   "id": "7b62f796",
   "metadata": {},
   "outputs": [
    {
     "data": {
      "text/plain": [
       "<AxesSubplot:title={'center':'Most Common Planets'}, xlabel='homeworld_species'>"
      ]
     },
     "execution_count": 19,
     "metadata": {},
     "output_type": "execute_result"
    },
    {
     "data": {
      "image/png": "[encoded data removed]",
      "text/plain": [
       "<Figure size 432x288 with 1 Axes>"
      ]
     },
     "metadata": {
      "needs_background": "light"
     },
     "output_type": "display_data"
    }
   ],
   "source": [
    "df = all_data_df.groupby(\"homeworld_species\").Title.count().sort_values(ascending=False).head()\n",
    "df.plot(kind=\"bar\", grid=False, title=\"Most Common Planets\")"
   ]
  },
  {
   "cell_type": "markdown",
   "id": "cb9b88f5",
   "metadata": {},
   "source": [
    "#### Which species are the tallest?"
   ]
  },
  {
   "cell_type": "code",
   "execution_count": 20,
   "id": "ae80bf05",
   "metadata": {},
   "outputs": [
    {
     "data": {
      "text/plain": [
       "<AxesSubplot:title={'center':'Tallest Species'}, xlabel='homeworld_species'>"
      ]
     },
     "execution_count": 20,
     "metadata": {},
     "output_type": "execute_result"
    },
    {
     "data": {
      "image/png": "[encoded data removed]",
      "text/plain": [
       "<Figure size 432x288 with 1 Axes>"
      ]
     },
     "metadata": {
      "needs_background": "light"
     },
     "output_type": "display_data"
    }
   ],
   "source": [
    "df = all_data_df.groupby(\"homeworld_species\").height.mean().sort_values(ascending=False).head()\n",
    "df.plot(kind=\"bar\", grid=False, title=\"Tallest Species\")"
   ]
  },
  {
   "cell_type": "markdown",
   "id": "dd266eab",
   "metadata": {},
   "source": [
    "#### What does famous character production look like over time?"
   ]
  },
  {
   "cell_type": "code",
   "execution_count": 21,
   "id": "e28e4ce6",
   "metadata": {},
   "outputs": [
    {
     "data": {
      "text/plain": [
       "<AxesSubplot:title={'center':'Luke Skywalker Productions over the years'}, xlabel='Year'>"
      ]
     },
     "execution_count": 21,
     "metadata": {},
     "output_type": "execute_result"
    },
    {
     "data": {
      "image/png": "[encoded data removed]",
      "text/plain": [
       "<Figure size 432x288 with 1 Axes>"
      ]
     },
     "metadata": {
      "needs_background": "light"
     },
     "output_type": "display_data"
    }
   ],
   "source": [
    "lukedf = all_data_df[all_data_df.Name == \"Luke Skywalker\"]\n",
    "df = lukedf.groupby(\"Year\").count().Name\n",
    "df.plot(kind=\"line\", grid=False, title=\"Luke Skywalker Productions over the years\")"
   ]
  },
  {
   "cell_type": "markdown",
   "id": "e4e86efe",
   "metadata": {},
   "source": [
    "#### What does overall Star Wars figure production look like over time?"
   ]
  },
  {
   "cell_type": "code",
   "execution_count": 22,
   "id": "cf80a888",
   "metadata": {},
   "outputs": [
    {
     "data": {
      "text/plain": [
       "<AxesSubplot:title={'center':'Total Number Made per Year'}, xlabel='Year'>"
      ]
     },
     "execution_count": 22,
     "metadata": {},
     "output_type": "execute_result"
    },
    {
     "data": {
      "image/png": "[encoded data removed]",
      "text/plain": [
       "<Figure size 432x288 with 1 Axes>"
      ]
     },
     "metadata": {
      "needs_background": "light"
     },
     "output_type": "display_data"
    }
   ],
   "source": [
    "df = all_data_df.groupby(\"Year\").Name.count()\n",
    "df.plot(kind=\"line\", grid=False, title=\"Total Number Made per Year\")"
   ]
  },
  {
   "cell_type": "markdown",
   "id": "a3d05ccf",
   "metadata": {},
   "source": [
    "### View bar plots for eye colors, hair colors, or skin colors"
   ]
  },
  {
   "cell_type": "code",
   "execution_count": 23,
   "id": "5340584f",
   "metadata": {},
   "outputs": [],
   "source": [
    "df = all_data_df[['Name', 'eye_color', 'hair_color', 'skin_color']]\n",
    "df = df.groupby(['Name', 'eye_color', 'hair_color', 'skin_color']).count().reset_index()"
   ]
  },
  {
   "cell_type": "code",
   "execution_count": 24,
   "id": "adcb81b1",
   "metadata": {},
   "outputs": [
    {
     "data": {
      "application/vnd.jupyter.widget-view+json": {
       "model_id": "de959d129ed84432b59baf41c1d88f37",
       "version_major": 2,
       "version_minor": 0
      },
      "text/plain": [
       "interactive(children=(ToggleButtons(description='Physical Characteristics:', layout=Layout(width='70%'), optio…"
      ]
     },
     "metadata": {},
     "output_type": "display_data"
    }
   ],
   "source": [
    "# Your answer here\n",
    "from ipywidgets import widgets, interactive, Layout\n",
    "w = widgets.ToggleButtons(\n",
    "    description = 'Physical Characteristics:',\n",
    "    options = ['Eye Colors', 'Hair Colors', 'Skin Colors'],\n",
    "    value = 'Eye Colors',\n",
    "    style = {\"description_width\": '50px'},\n",
    "    layout = Layout(width=\"70%\")\n",
    ")\n",
    "\n",
    "def view(char):\n",
    "    if char == \"Eye Colors\":\n",
    "        df_tmp = df.groupby(\"eye_color\").Name.count().sort_values(ascending=False)\n",
    "    if char == \"Hair Colors\":\n",
    "        df_tmp = df.groupby(\"hair_color\").Name.count().sort_values(ascending=False)\n",
    "    if char == \"Skin Colors\":\n",
    "        df_tmp = df.groupby(\"skin_color\").Name.count().sort_values(ascending=False)\n",
    "    \n",
    "    title = \"Type: {}\".format(char)\n",
    "    df_tmp.plot(kind=\"bar\", grid=False, title=\"Most Common\")\n",
    "\n",
    "i = interactive(view, char=w)  # The value of the widget is passed as a parameter value.\n",
    "display(i)"
   ]
  },
  {
   "cell_type": "markdown",
   "id": "bc079494",
   "metadata": {},
   "source": [
    "These are adjusted to not count multiple characters more than once.\n",
    "i.e. blue eyes bar would be much larger if using raw counts since Luke Skywalker is the most common character."
   ]
  },
  {
   "cell_type": "markdown",
   "id": "ebe74d13",
   "metadata": {},
   "source": [
    "# Analysis of Toylines\n",
    "\n",
    "#### What are some trends we can find by looking at the different toylines?"
   ]
  },
  {
   "cell_type": "markdown",
   "id": "1e8b46df",
   "metadata": {},
   "source": [
    "Throughout the history of the Star Wars franchise, there have been several toylines. From the vintage lines during the original trilogy to the Power of the Force in the 1990s to the Vintage Collection in the 2010s and present, several different lines have been released with a different variety of characters. This next section will use the Master List from jedibusiness.com for analysis."
   ]
  },
  {
   "cell_type": "code",
   "execution_count": 25,
   "id": "9a10e2ca",
   "metadata": {
    "scrolled": false
   },
   "outputs": [
    {
     "data": {
      "text/html": [
       "<div>\n",
       "<style scoped>\n",
       "    .dataframe tbody tr th:only-of-type {\n",
       "        vertical-align: middle;\n",
       "    }\n",
       "\n",
       "    .dataframe tbody tr th {\n",
       "        vertical-align: top;\n",
       "    }\n",
       "\n",
       "    .dataframe thead th {\n",
       "        text-align: right;\n",
       "    }\n",
       "</style>\n",
       "<table border=\"1\" class=\"dataframe\">\n",
       "  <thead>\n",
       "    <tr style=\"text-align: right;\">\n",
       "      <th></th>\n",
       "      <th>Name</th>\n",
       "      <th>Title</th>\n",
       "      <th>Year</th>\n",
       "      <th>Toyline</th>\n",
       "      <th>Size</th>\n",
       "      <th>Brand</th>\n",
       "    </tr>\n",
       "  </thead>\n",
       "  <tbody>\n",
       "    <tr>\n",
       "      <th>0</th>\n",
       "      <td>0-0-0</td>\n",
       "      <td>Doctor Aphra Comic Set 3-Pack</td>\n",
       "      <td>2018.0</td>\n",
       "      <td>The Vintage Collection</td>\n",
       "      <td>3 3/4\"</td>\n",
       "      <td>Hasbro</td>\n",
       "    </tr>\n",
       "    <tr>\n",
       "      <th>1</th>\n",
       "      <td>2-1B</td>\n",
       "      <td>Medical Droid</td>\n",
       "      <td>2008.0</td>\n",
       "      <td>The 30th Anniversary Collection</td>\n",
       "      <td>3 3/4\"</td>\n",
       "      <td>Hasbro</td>\n",
       "    </tr>\n",
       "    <tr>\n",
       "      <th>2</th>\n",
       "      <td>2-1B</td>\n",
       "      <td>Rebel Set 3-Pack</td>\n",
       "      <td>2011.0</td>\n",
       "      <td>The Vintage Collection</td>\n",
       "      <td>3 3/4\"</td>\n",
       "      <td>Hasbro</td>\n",
       "    </tr>\n",
       "    <tr>\n",
       "      <th>3</th>\n",
       "      <td>2-1B</td>\n",
       "      <td>Medical Droid</td>\n",
       "      <td>1997.0</td>\n",
       "      <td>The Power Of The Force</td>\n",
       "      <td>3 3/4\"</td>\n",
       "      <td>Hasbro</td>\n",
       "    </tr>\n",
       "    <tr>\n",
       "      <th>4</th>\n",
       "      <td>3T-RNE</td>\n",
       "      <td>Star Tours</td>\n",
       "      <td>2005.0</td>\n",
       "      <td>The Disney Collection</td>\n",
       "      <td>3 3/4\"</td>\n",
       "      <td>Hasbro</td>\n",
       "    </tr>\n",
       "    <tr>\n",
       "      <th>...</th>\n",
       "      <td>...</td>\n",
       "      <td>...</td>\n",
       "      <td>...</td>\n",
       "      <td>...</td>\n",
       "      <td>...</td>\n",
       "      <td>...</td>\n",
       "    </tr>\n",
       "    <tr>\n",
       "      <th>3362</th>\n",
       "      <td>Wicket</td>\n",
       "      <td>Star Wars: Ewoks</td>\n",
       "      <td>1985.0</td>\n",
       "      <td>Vintage Ewoks</td>\n",
       "      <td>3 3/4\"</td>\n",
       "      <td>Kenner</td>\n",
       "    </tr>\n",
       "    <tr>\n",
       "      <th>3363</th>\n",
       "      <td>Yak Face</td>\n",
       "      <td>Saelt-Marae</td>\n",
       "      <td>1985.0</td>\n",
       "      <td>Vintage Power Of The Force</td>\n",
       "      <td>3 3/4\"</td>\n",
       "      <td>Kenner</td>\n",
       "    </tr>\n",
       "    <tr>\n",
       "      <th>3364</th>\n",
       "      <td>Yoda</td>\n",
       "      <td>The Jedi Master</td>\n",
       "      <td>1980.0</td>\n",
       "      <td>Vintage Empire Strikes Back</td>\n",
       "      <td>3 3/4\"</td>\n",
       "      <td>Kenner</td>\n",
       "    </tr>\n",
       "    <tr>\n",
       "      <th>3365</th>\n",
       "      <td>Yoda</td>\n",
       "      <td>The Jedi Master</td>\n",
       "      <td>1980.0</td>\n",
       "      <td>Vintage Empire Strikes Back</td>\n",
       "      <td>3 3/4\"</td>\n",
       "      <td>Kenner</td>\n",
       "    </tr>\n",
       "    <tr>\n",
       "      <th>3366</th>\n",
       "      <td>Zuckuss</td>\n",
       "      <td>4-LOM</td>\n",
       "      <td>1981.0</td>\n",
       "      <td>Vintage Empire Strikes Back</td>\n",
       "      <td>3 3/4\"</td>\n",
       "      <td>Kenner</td>\n",
       "    </tr>\n",
       "  </tbody>\n",
       "</table>\n",
       "<p>3367 rows × 6 columns</p>\n",
       "</div>"
      ],
      "text/plain": [
       "          Name                          Title    Year  \\\n",
       "0        0-0-0  Doctor Aphra Comic Set 3-Pack  2018.0   \n",
       "1         2-1B                  Medical Droid  2008.0   \n",
       "2         2-1B               Rebel Set 3-Pack  2011.0   \n",
       "3         2-1B                  Medical Droid  1997.0   \n",
       "4       3T-RNE                     Star Tours  2005.0   \n",
       "...        ...                            ...     ...   \n",
       "3362    Wicket               Star Wars: Ewoks  1985.0   \n",
       "3363  Yak Face                    Saelt-Marae  1985.0   \n",
       "3364      Yoda                The Jedi Master  1980.0   \n",
       "3365      Yoda                The Jedi Master  1980.0   \n",
       "3366   Zuckuss                          4-LOM  1981.0   \n",
       "\n",
       "                              Toyline    Size   Brand  \n",
       "0              The Vintage Collection  3 3/4\"  Hasbro  \n",
       "1     The 30th Anniversary Collection  3 3/4\"  Hasbro  \n",
       "2              The Vintage Collection  3 3/4\"  Hasbro  \n",
       "3              The Power Of The Force  3 3/4\"  Hasbro  \n",
       "4               The Disney Collection  3 3/4\"  Hasbro  \n",
       "...                               ...     ...     ...  \n",
       "3362                    Vintage Ewoks  3 3/4\"  Kenner  \n",
       "3363       Vintage Power Of The Force  3 3/4\"  Kenner  \n",
       "3364      Vintage Empire Strikes Back  3 3/4\"  Kenner  \n",
       "3365      Vintage Empire Strikes Back  3 3/4\"  Kenner  \n",
       "3366      Vintage Empire Strikes Back  3 3/4\"  Kenner  \n",
       "\n",
       "[3367 rows x 6 columns]"
      ]
     },
     "execution_count": 25,
     "metadata": {},
     "output_type": "execute_result"
    }
   ],
   "source": [
    "# reading Master List data\n",
    "masterlist = pd.read_csv(\"data/JediBusinessFigures.csv\")\n",
    "masterlist"
   ]
  },
  {
   "cell_type": "markdown",
   "id": "6d9b4289",
   "metadata": {},
   "source": [
    "With data on every 3.75\" Star Wars action figure ever made, we can now look at some trends. The most interesting column for plotting is Toyline. We can count the number of figures in each line and come up with a bar chart."
   ]
  },
  {
   "cell_type": "code",
   "execution_count": 26,
   "id": "3b62995b",
   "metadata": {
    "scrolled": false
   },
   "outputs": [
    {
     "data": {
      "text/plain": [
       "<AxesSubplot:title={'center':'Number of Characters by Toyline'}, ylabel='Toyline'>"
      ]
     },
     "execution_count": 26,
     "metadata": {},
     "output_type": "execute_result"
    },
    {
     "data": {
      "image/png": "[encoded data removed]",
      "text/plain": [
       "<Figure size 720x720 with 1 Axes>"
      ]
     },
     "metadata": {
      "needs_background": "light"
     },
     "output_type": "display_data"
    }
   ],
   "source": [
    "# Counting and plotting number of characters in each toyline\n",
    "countCharacters = masterlist.groupby(\"Toyline\").Name.count()    \n",
    "countCharacters.sort_values().plot(kind=\"barh\", title=\"Number of Characters by Toyline\", figsize=(10,10))"
   ]
  },
  {
   "cell_type": "markdown",
   "id": "5d0fa641",
   "metadata": {},
   "source": [
    "These results match up with what a Star Wars action figure collector would expect. The Legacy Collection ran about a decade ago and featured characters from every movie. The Vintage Collection started after the Legacy Collection and also featured characters from every movie. This is the trend we observe. Lines that are not limited to a certain movie and ran for multiple years are at the top. One might think the Clone Wars Collection is an outlier, but this is not surprising due to the amount of characters in the show and how long it ran, from the movie in 2008 to the last season in 2020. At first glance, the lack of figures from Revenge of the Sith is surprisingly low, but this is different from the Revenge of the Sith Collection, which is towards the top. Prequel lines have more figures than Original Trilogy lines due to the known popularity of action figures at the time of release. Our next step is to analyze each toyline individually."
   ]
  },
  {
   "cell_type": "code",
   "execution_count": 27,
   "id": "ad6f89b0",
   "metadata": {
    "scrolled": false
   },
   "outputs": [
    {
     "data": {
      "application/vnd.jupyter.widget-view+json": {
       "model_id": "c75ea87b1a7d4c39a0d2e9bb1663ea7e",
       "version_major": 2,
       "version_minor": 0
      },
      "text/plain": [
       "interactive(children=(Dropdown(description='Toyline:', layout=Layout(width='15%'), options=('All', 'Celebrate …"
      ]
     },
     "metadata": {},
     "output_type": "display_data"
    }
   ],
   "source": [
    "# Letting user choose line and see summary statistics\n",
    "w_line = widgets.Dropdown(\n",
    "    description='Toyline:',\n",
    "    options = [\"All\"] + sorted(list(set(masterlist.Toyline))),  \n",
    "    value = \"All\",\n",
    "    style = {\"description_width\": '50px'},\n",
    "    layout = Layout(width=\"15%\")\n",
    ")\n",
    "\n",
    "def view(line):\n",
    "    if line == \"All\":\n",
    "        masterlist_tmp = masterlist\n",
    "    else:\n",
    "        masterlist_tmp =masterlist[masterlist.Toyline == line]\n",
    "        \n",
    "    masterlist_updated = masterlist_tmp.groupby(\"Title\").Name.count().sort_values()[-5:]\n",
    "\n",
    "    title = \"Top 5 Titles for {}\".format(line)\n",
    "    masterlist_updated.plot(kind=\"barh\", title=title, grid=True, figsize=(15,7))\n",
    "\n",
    "ActionFigurePlot = interactive(view, line=w_line)\n",
    "display(ActionFigurePlot)"
   ]
  },
  {
   "cell_type": "markdown",
   "id": "e17c44a3",
   "metadata": {},
   "source": [
    "This widget allows you to look at the most common title by toyline. For example, the 2012 Aayla Secura figure from the Vintage Collection is her design from Revenge of the Sith, so this is the title assigned to that figure. The movies are a common theme among titles in the most popular lines, while lines for only one movie or show tended to have less variety."
   ]
  },
  {
   "cell_type": "code",
   "execution_count": 28,
   "id": "e1a653aa",
   "metadata": {},
   "outputs": [
    {
     "data": {
      "text/html": [
       "<div>\n",
       "<style scoped>\n",
       "    .dataframe tbody tr th:only-of-type {\n",
       "        vertical-align: middle;\n",
       "    }\n",
       "\n",
       "    .dataframe tbody tr th {\n",
       "        vertical-align: top;\n",
       "    }\n",
       "\n",
       "    .dataframe thead th {\n",
       "        text-align: right;\n",
       "    }\n",
       "</style>\n",
       "<table border=\"1\" class=\"dataframe\">\n",
       "  <thead>\n",
       "    <tr style=\"text-align: right;\">\n",
       "      <th></th>\n",
       "      <th>Name</th>\n",
       "      <th>Title</th>\n",
       "      <th>Year</th>\n",
       "      <th>Toyline</th>\n",
       "      <th>Size</th>\n",
       "      <th>Brand</th>\n",
       "      <th>count</th>\n",
       "    </tr>\n",
       "  </thead>\n",
       "  <tbody>\n",
       "    <tr>\n",
       "      <th>0</th>\n",
       "      <td>0-0-0</td>\n",
       "      <td>Doctor Aphra Comic Set 3-Pack</td>\n",
       "      <td>2018.0</td>\n",
       "      <td>The Vintage Collection</td>\n",
       "      <td>3 3/4\"</td>\n",
       "      <td>Hasbro</td>\n",
       "      <td>1</td>\n",
       "    </tr>\n",
       "    <tr>\n",
       "      <th>1</th>\n",
       "      <td>2-1B</td>\n",
       "      <td>Medical Droid</td>\n",
       "      <td>2008.0</td>\n",
       "      <td>The 30th Anniversary Collection</td>\n",
       "      <td>3 3/4\"</td>\n",
       "      <td>Hasbro</td>\n",
       "      <td>4</td>\n",
       "    </tr>\n",
       "    <tr>\n",
       "      <th>2</th>\n",
       "      <td>2-1B</td>\n",
       "      <td>Rebel Set 3-Pack</td>\n",
       "      <td>2011.0</td>\n",
       "      <td>The Vintage Collection</td>\n",
       "      <td>3 3/4\"</td>\n",
       "      <td>Hasbro</td>\n",
       "      <td>4</td>\n",
       "    </tr>\n",
       "    <tr>\n",
       "      <th>3</th>\n",
       "      <td>2-1B</td>\n",
       "      <td>Medical Droid</td>\n",
       "      <td>1997.0</td>\n",
       "      <td>The Power Of The Force</td>\n",
       "      <td>3 3/4\"</td>\n",
       "      <td>Hasbro</td>\n",
       "      <td>4</td>\n",
       "    </tr>\n",
       "    <tr>\n",
       "      <th>4</th>\n",
       "      <td>3T-RNE</td>\n",
       "      <td>Star Tours</td>\n",
       "      <td>2005.0</td>\n",
       "      <td>The Disney Collection</td>\n",
       "      <td>3 3/4\"</td>\n",
       "      <td>Hasbro</td>\n",
       "      <td>1</td>\n",
       "    </tr>\n",
       "    <tr>\n",
       "      <th>...</th>\n",
       "      <td>...</td>\n",
       "      <td>...</td>\n",
       "      <td>...</td>\n",
       "      <td>...</td>\n",
       "      <td>...</td>\n",
       "      <td>...</td>\n",
       "      <td>...</td>\n",
       "    </tr>\n",
       "    <tr>\n",
       "      <th>3362</th>\n",
       "      <td>Wicket</td>\n",
       "      <td>Star Wars: Ewoks</td>\n",
       "      <td>1985.0</td>\n",
       "      <td>Vintage Ewoks</td>\n",
       "      <td>3 3/4\"</td>\n",
       "      <td>Kenner</td>\n",
       "      <td>11</td>\n",
       "    </tr>\n",
       "    <tr>\n",
       "      <th>3363</th>\n",
       "      <td>Yak Face</td>\n",
       "      <td>Saelt-Marae</td>\n",
       "      <td>1985.0</td>\n",
       "      <td>Vintage Power Of The Force</td>\n",
       "      <td>3 3/4\"</td>\n",
       "      <td>Kenner</td>\n",
       "      <td>4</td>\n",
       "    </tr>\n",
       "    <tr>\n",
       "      <th>3364</th>\n",
       "      <td>Yoda</td>\n",
       "      <td>The Jedi Master</td>\n",
       "      <td>1980.0</td>\n",
       "      <td>Vintage Empire Strikes Back</td>\n",
       "      <td>3 3/4\"</td>\n",
       "      <td>Kenner</td>\n",
       "      <td>53</td>\n",
       "    </tr>\n",
       "    <tr>\n",
       "      <th>3365</th>\n",
       "      <td>Yoda</td>\n",
       "      <td>The Jedi Master</td>\n",
       "      <td>1980.0</td>\n",
       "      <td>Vintage Empire Strikes Back</td>\n",
       "      <td>3 3/4\"</td>\n",
       "      <td>Kenner</td>\n",
       "      <td>53</td>\n",
       "    </tr>\n",
       "    <tr>\n",
       "      <th>3366</th>\n",
       "      <td>Zuckuss</td>\n",
       "      <td>4-LOM</td>\n",
       "      <td>1981.0</td>\n",
       "      <td>Vintage Empire Strikes Back</td>\n",
       "      <td>3 3/4\"</td>\n",
       "      <td>Kenner</td>\n",
       "      <td>4</td>\n",
       "    </tr>\n",
       "  </tbody>\n",
       "</table>\n",
       "<p>3367 rows × 7 columns</p>\n",
       "</div>"
      ],
      "text/plain": [
       "          Name                          Title    Year  \\\n",
       "0        0-0-0  Doctor Aphra Comic Set 3-Pack  2018.0   \n",
       "1         2-1B                  Medical Droid  2008.0   \n",
       "2         2-1B               Rebel Set 3-Pack  2011.0   \n",
       "3         2-1B                  Medical Droid  1997.0   \n",
       "4       3T-RNE                     Star Tours  2005.0   \n",
       "...        ...                            ...     ...   \n",
       "3362    Wicket               Star Wars: Ewoks  1985.0   \n",
       "3363  Yak Face                    Saelt-Marae  1985.0   \n",
       "3364      Yoda                The Jedi Master  1980.0   \n",
       "3365      Yoda                The Jedi Master  1980.0   \n",
       "3366   Zuckuss                          4-LOM  1981.0   \n",
       "\n",
       "                              Toyline    Size   Brand  count  \n",
       "0              The Vintage Collection  3 3/4\"  Hasbro      1  \n",
       "1     The 30th Anniversary Collection  3 3/4\"  Hasbro      4  \n",
       "2              The Vintage Collection  3 3/4\"  Hasbro      4  \n",
       "3              The Power Of The Force  3 3/4\"  Hasbro      4  \n",
       "4               The Disney Collection  3 3/4\"  Hasbro      1  \n",
       "...                               ...     ...     ...    ...  \n",
       "3362                    Vintage Ewoks  3 3/4\"  Kenner     11  \n",
       "3363       Vintage Power Of The Force  3 3/4\"  Kenner      4  \n",
       "3364      Vintage Empire Strikes Back  3 3/4\"  Kenner     53  \n",
       "3365      Vintage Empire Strikes Back  3 3/4\"  Kenner     53  \n",
       "3366      Vintage Empire Strikes Back  3 3/4\"  Kenner      4  \n",
       "\n",
       "[3367 rows x 7 columns]"
      ]
     },
     "execution_count": 28,
     "metadata": {},
     "output_type": "execute_result"
    }
   ],
   "source": [
    "countProduction = masterlist.groupby(\"Name\").Name.count().to_frame(name=\"count\")\n",
    "masterlist_n = pd.merge(masterlist,countProduction,on=\"Name\",how=\"left\")\n",
    "masterlist_n"
   ]
  },
  {
   "cell_type": "markdown",
   "id": "a192d172",
   "metadata": {},
   "source": [
    "The number of times each character has been produced has been added as a new column. Main characters have been made many times, some obscure characters have only been made once, and several popular background characters have been produced multiple times. An arbitrary count of five variations in one character has been chosen as a target variable."
   ]
  },
  {
   "cell_type": "code",
   "execution_count": 29,
   "id": "60343c96",
   "metadata": {},
   "outputs": [
    {
     "name": "stdout",
     "output_type": "stream",
     "text": [
      "122 of 928 characters have been produced five or more times, which is 13.1 percent.\n",
      "However, 2225 of 3367 (66.1 of figures) in the master list are characters that have been made five or more times.\n"
     ]
    }
   ],
   "source": [
    "countProduction = masterlist_n.groupby(\"Name\").Name.count().to_frame(name=\"count\")\n",
    "nrows = len(countProduction.index)\n",
    "count5 = masterlist_n.groupby(\"Name\").Name.count()\n",
    "n = 0\n",
    "for i in count5:\n",
    "    if i >=5:\n",
    "        n=n+1\n",
    "totalrows = len(masterlist_n.index)\n",
    "total_5ormore = len(masterlist_n[masterlist_n[\"count\"] > 4].index)\n",
    "print(\"{} of {} characters have been produced five or more times, which is {} percent.\".\n",
    "      format(n,nrows,round(n/nrows*100,1)))\n",
    "print(\"However, {} of {} ({} of figures) in the master list are characters that have been made five or more times.\".\n",
    "      format(total_5ormore,totalrows,round(total_5ormore/totalrows*100,1)))"
   ]
  },
  {
   "cell_type": "markdown",
   "id": "e377e68d",
   "metadata": {},
   "source": [
    "We can see that only about 13% of characters have been produced in this quantity, so it is an interesting question to look into. Logistic regression will be used to predict if example action figures were produced five or more times."
   ]
  },
  {
   "cell_type": "code",
   "execution_count": 30,
   "id": "edb56434",
   "metadata": {
    "scrolled": true
   },
   "outputs": [
    {
     "name": "stderr",
     "output_type": "stream",
     "text": [
      "/usr/local/lib/python3.7/dist-packages/ipykernel_launcher.py:4: SettingWithCopyWarning: \n",
      "A value is trying to be set on a copy of a slice from a DataFrame\n",
      "\n",
      "See the caveats in the documentation: https://pandas.pydata.org/pandas-docs/stable/user_guide/indexing.html#returning-a-view-versus-a-copy\n",
      "  after removing the cwd from sys.path.\n"
     ]
    },
    {
     "data": {
      "text/html": [
       "<div>\n",
       "<style scoped>\n",
       "    .dataframe tbody tr th:only-of-type {\n",
       "        vertical-align: middle;\n",
       "    }\n",
       "\n",
       "    .dataframe tbody tr th {\n",
       "        vertical-align: top;\n",
       "    }\n",
       "\n",
       "    .dataframe thead th {\n",
       "        text-align: right;\n",
       "    }\n",
       "</style>\n",
       "<table border=\"1\" class=\"dataframe\">\n",
       "  <thead>\n",
       "    <tr style=\"text-align: right;\">\n",
       "      <th></th>\n",
       "      <th>Name</th>\n",
       "      <th>Title</th>\n",
       "      <th>Year</th>\n",
       "      <th>Toyline</th>\n",
       "      <th>Size</th>\n",
       "      <th>Brand</th>\n",
       "      <th>count</th>\n",
       "      <th>FiveOrMore</th>\n",
       "    </tr>\n",
       "  </thead>\n",
       "  <tbody>\n",
       "    <tr>\n",
       "      <th>0</th>\n",
       "      <td>0-0-0</td>\n",
       "      <td>Doctor Aphra Comic Set 3-Pack</td>\n",
       "      <td>2018.0</td>\n",
       "      <td>The Vintage Collection</td>\n",
       "      <td>3 3/4\"</td>\n",
       "      <td>Hasbro</td>\n",
       "      <td>1</td>\n",
       "      <td>0</td>\n",
       "    </tr>\n",
       "    <tr>\n",
       "      <th>1</th>\n",
       "      <td>2-1B</td>\n",
       "      <td>Medical Droid</td>\n",
       "      <td>2008.0</td>\n",
       "      <td>The 30th Anniversary Collection</td>\n",
       "      <td>3 3/4\"</td>\n",
       "      <td>Hasbro</td>\n",
       "      <td>4</td>\n",
       "      <td>0</td>\n",
       "    </tr>\n",
       "    <tr>\n",
       "      <th>2</th>\n",
       "      <td>2-1B</td>\n",
       "      <td>Rebel Set 3-Pack</td>\n",
       "      <td>2011.0</td>\n",
       "      <td>The Vintage Collection</td>\n",
       "      <td>3 3/4\"</td>\n",
       "      <td>Hasbro</td>\n",
       "      <td>4</td>\n",
       "      <td>0</td>\n",
       "    </tr>\n",
       "    <tr>\n",
       "      <th>3</th>\n",
       "      <td>2-1B</td>\n",
       "      <td>Medical Droid</td>\n",
       "      <td>1997.0</td>\n",
       "      <td>The Power Of The Force</td>\n",
       "      <td>3 3/4\"</td>\n",
       "      <td>Hasbro</td>\n",
       "      <td>4</td>\n",
       "      <td>0</td>\n",
       "    </tr>\n",
       "    <tr>\n",
       "      <th>4</th>\n",
       "      <td>3T-RNE</td>\n",
       "      <td>Star Tours</td>\n",
       "      <td>2005.0</td>\n",
       "      <td>The Disney Collection</td>\n",
       "      <td>3 3/4\"</td>\n",
       "      <td>Hasbro</td>\n",
       "      <td>1</td>\n",
       "      <td>0</td>\n",
       "    </tr>\n",
       "    <tr>\n",
       "      <th>...</th>\n",
       "      <td>...</td>\n",
       "      <td>...</td>\n",
       "      <td>...</td>\n",
       "      <td>...</td>\n",
       "      <td>...</td>\n",
       "      <td>...</td>\n",
       "      <td>...</td>\n",
       "      <td>...</td>\n",
       "    </tr>\n",
       "    <tr>\n",
       "      <th>3362</th>\n",
       "      <td>Wicket</td>\n",
       "      <td>Star Wars: Ewoks</td>\n",
       "      <td>1985.0</td>\n",
       "      <td>Vintage Ewoks</td>\n",
       "      <td>3 3/4\"</td>\n",
       "      <td>Kenner</td>\n",
       "      <td>11</td>\n",
       "      <td>1</td>\n",
       "    </tr>\n",
       "    <tr>\n",
       "      <th>3363</th>\n",
       "      <td>Yak Face</td>\n",
       "      <td>Saelt-Marae</td>\n",
       "      <td>1985.0</td>\n",
       "      <td>Vintage Power Of The Force</td>\n",
       "      <td>3 3/4\"</td>\n",
       "      <td>Kenner</td>\n",
       "      <td>4</td>\n",
       "      <td>0</td>\n",
       "    </tr>\n",
       "    <tr>\n",
       "      <th>3364</th>\n",
       "      <td>Yoda</td>\n",
       "      <td>The Jedi Master</td>\n",
       "      <td>1980.0</td>\n",
       "      <td>Vintage Empire Strikes Back</td>\n",
       "      <td>3 3/4\"</td>\n",
       "      <td>Kenner</td>\n",
       "      <td>53</td>\n",
       "      <td>1</td>\n",
       "    </tr>\n",
       "    <tr>\n",
       "      <th>3365</th>\n",
       "      <td>Yoda</td>\n",
       "      <td>The Jedi Master</td>\n",
       "      <td>1980.0</td>\n",
       "      <td>Vintage Empire Strikes Back</td>\n",
       "      <td>3 3/4\"</td>\n",
       "      <td>Kenner</td>\n",
       "      <td>53</td>\n",
       "      <td>1</td>\n",
       "    </tr>\n",
       "    <tr>\n",
       "      <th>3366</th>\n",
       "      <td>Zuckuss</td>\n",
       "      <td>4-LOM</td>\n",
       "      <td>1981.0</td>\n",
       "      <td>Vintage Empire Strikes Back</td>\n",
       "      <td>3 3/4\"</td>\n",
       "      <td>Kenner</td>\n",
       "      <td>4</td>\n",
       "      <td>0</td>\n",
       "    </tr>\n",
       "  </tbody>\n",
       "</table>\n",
       "<p>3367 rows × 8 columns</p>\n",
       "</div>"
      ],
      "text/plain": [
       "          Name                          Title    Year  \\\n",
       "0        0-0-0  Doctor Aphra Comic Set 3-Pack  2018.0   \n",
       "1         2-1B                  Medical Droid  2008.0   \n",
       "2         2-1B               Rebel Set 3-Pack  2011.0   \n",
       "3         2-1B                  Medical Droid  1997.0   \n",
       "4       3T-RNE                     Star Tours  2005.0   \n",
       "...        ...                            ...     ...   \n",
       "3362    Wicket               Star Wars: Ewoks  1985.0   \n",
       "3363  Yak Face                    Saelt-Marae  1985.0   \n",
       "3364      Yoda                The Jedi Master  1980.0   \n",
       "3365      Yoda                The Jedi Master  1980.0   \n",
       "3366   Zuckuss                          4-LOM  1981.0   \n",
       "\n",
       "                              Toyline    Size   Brand  count  FiveOrMore  \n",
       "0              The Vintage Collection  3 3/4\"  Hasbro      1           0  \n",
       "1     The 30th Anniversary Collection  3 3/4\"  Hasbro      4           0  \n",
       "2              The Vintage Collection  3 3/4\"  Hasbro      4           0  \n",
       "3              The Power Of The Force  3 3/4\"  Hasbro      4           0  \n",
       "4               The Disney Collection  3 3/4\"  Hasbro      1           0  \n",
       "...                               ...     ...     ...    ...         ...  \n",
       "3362                    Vintage Ewoks  3 3/4\"  Kenner     11           1  \n",
       "3363       Vintage Power Of The Force  3 3/4\"  Kenner      4           0  \n",
       "3364      Vintage Empire Strikes Back  3 3/4\"  Kenner     53           1  \n",
       "3365      Vintage Empire Strikes Back  3 3/4\"  Kenner     53           1  \n",
       "3366      Vintage Empire Strikes Back  3 3/4\"  Kenner      4           0  \n",
       "\n",
       "[3367 rows x 8 columns]"
      ]
     },
     "execution_count": 30,
     "metadata": {},
     "output_type": "execute_result"
    }
   ],
   "source": [
    "masterlist_n[\"FiveOrMore\"] = 0\n",
    "for i in range(len(masterlist_n)-1):\n",
    "    if masterlist_n[\"count\"][i] >= 5:\n",
    "        masterlist_n[\"FiveOrMore\"][i] = 1\n",
    "masterlist_n"
   ]
  },
  {
   "cell_type": "markdown",
   "id": "1d18ad04",
   "metadata": {},
   "source": [
    "With the target variable created, we can create the model. Variables will be Year, Toyline, and Brand. Toyline and brand must be manipulated since they are categorical variables.  "
   ]
  },
  {
   "cell_type": "code",
   "execution_count": 31,
   "id": "ab691be0",
   "metadata": {},
   "outputs": [
    {
     "data": {
      "text/plain": [
       "(0.6668016194331984, 0.6529126213592233)"
      ]
     },
     "execution_count": 31,
     "metadata": {},
     "output_type": "execute_result"
    }
   ],
   "source": [
    "lr = LogisticRegression(solver=\"liblinear\")\n",
    "masterlist_n.Toyline, masterlist_n.Brand = pd.Categorical(masterlist_n.Toyline), pd.Categorical(masterlist_n.Brand)\n",
    "masterlist_n.Toyline, masterlist_n.Brand = masterlist_n.Toyline.cat.codes, masterlist_n.Brand.cat.codes\n",
    "\n",
    "masterlist_n = masterlist_n.dropna()\n",
    "X, y = masterlist_n[[\"Year\",\"Toyline\",\"Brand\"]], masterlist_n[\"FiveOrMore\"]\n",
    "X_train, X_test, y_train, y_test = train_test_split(X, y, test_size=.25, random_state=0)\n",
    "\n",
    "lr.fit(X_train, y_train)\n",
    "lr.score(X_train, y_train), lr.score(X_test,y_test)"
   ]
  },
  {
   "cell_type": "markdown",
   "id": "109a1599",
   "metadata": {},
   "source": [
    "We would like the model to be more accurate, but this is not too bad considering what we are given. We avoided overfitting and had correct predictions for a majority of rows. However, the accuracy is almost the same as the percentage of figures in the master list who are from characters that have been made five or more times, so the model does not appear to be much better than predicting a success every time."
   ]
  },
  {
   "cell_type": "code",
   "execution_count": 32,
   "id": "cb2aba35",
   "metadata": {
    "scrolled": true
   },
   "outputs": [
    {
     "data": {
      "text/plain": [
       "array([[ 0.00050859, -0.01714608, -0.00021886]])"
      ]
     },
     "execution_count": 32,
     "metadata": {},
     "output_type": "execute_result"
    }
   ],
   "source": [
    "lr.coef_"
   ]
  },
  {
   "cell_type": "markdown",
   "id": "d2c70f52",
   "metadata": {},
   "source": [
    "This shows that the model does not have any extremely influential coefficients. As figures get made later, it is more likely that the character has been made five or more times. Some of the first toylines alphabetically may also give better chances. The Brand coefficient shows that figures made by Kenner may be less likely to be made five or fewer times, but it is so low that concluding there is no effect is also reasonable. Example predictions are shown in the function below."
   ]
  },
  {
   "cell_type": "code",
   "execution_count": 33,
   "id": "c9a7c82c",
   "metadata": {},
   "outputs": [
    {
     "name": "stdout",
     "output_type": "stream",
     "text": [
      "We predict that this Grand Admiral Thrawn action figure was produced five or more times.\n",
      "We predict that this Ben Quadinaros action figure was produced five or more times.\n",
      "We predict that this Willrow Hood action figure was produced five or more times.\n"
     ]
    }
   ],
   "source": [
    "def ProductionPredictor(Name, Year, Toyline, Brand):\n",
    "    prediction = lr.predict([[Year, Toyline, Brand]])\n",
    "    if (prediction==1):\n",
    "        return(\"We predict that this {} action figure was produced five or more times.\".format(Name))\n",
    "    else:\n",
    "        return(\"We predict that this {} action figure was produced four or fewer times.\".format(Name))\n",
    "print(ProductionPredictor(\"Grand Admiral Thrawn\", 2022, 30, 0))\n",
    "print(ProductionPredictor(\"Ben Quadinaros\", 2008, 17, 0))\n",
    "print(ProductionPredictor(\"Willrow Hood\", 1980, 32, 1))"
   ]
  },
  {
   "cell_type": "markdown",
   "id": "693dd0f4",
   "metadata": {},
   "source": [
    "These are three hypothetical action figures that are not in the master list. They include a Grand Admiral Thrawn figure that would be released next year in the Vintage Collection, a Ben Quadinaros figure that would have been released in the Saga Collection, and a Willrow Hood figure that would have been released in the Vintage Empire Strikes Back line. The predictions all make sense since the Saga and Vintage collections included characters who have frequently been made and characters from the Empire Strikes Back vintage line have tended to be made several times. Overall, this model is likely not the best way and a better one can be made with different data. The main takeaway is that if you take a given action figure, there is a good chance the character has already been made. Another approach may be better."
   ]
  },
  {
   "cell_type": "markdown",
   "id": "d1a1d4e2",
   "metadata": {},
   "source": [
    "## Can we predict how many figures will be made of a character?"
   ]
  },
  {
   "cell_type": "markdown",
   "id": "585f2c19",
   "metadata": {},
   "source": [
    "With the data we gathered, we wanted to see if we could predict the number of action figures that have been made of a character.\n",
    "\n",
    "We first chose the columns we wanted to model with from the joined dataset and grouped the data. We had to do two groups and a join to preserve the columns we wanted along with the count of the number of figures."
   ]
  },
  {
   "cell_type": "code",
   "execution_count": 34,
   "id": "13e8a928",
   "metadata": {},
   "outputs": [
    {
     "data": {
      "text/html": [
       "<div>\n",
       "<style scoped>\n",
       "    .dataframe tbody tr th:only-of-type {\n",
       "        vertical-align: middle;\n",
       "    }\n",
       "\n",
       "    .dataframe tbody tr th {\n",
       "        vertical-align: top;\n",
       "    }\n",
       "\n",
       "    .dataframe thead th {\n",
       "        text-align: right;\n",
       "    }\n",
       "</style>\n",
       "<table border=\"1\" class=\"dataframe\">\n",
       "  <thead>\n",
       "    <tr style=\"text-align: right;\">\n",
       "      <th></th>\n",
       "      <th>Name</th>\n",
       "      <th>Jedi</th>\n",
       "      <th>Sith</th>\n",
       "      <th>Hero</th>\n",
       "      <th>Villain</th>\n",
       "      <th>BountyHunter</th>\n",
       "      <th>Neutral</th>\n",
       "      <th>OriginalTril</th>\n",
       "      <th>PrequelTril</th>\n",
       "      <th>SequelTril</th>\n",
       "      <th>Movies</th>\n",
       "      <th>Num_Figures</th>\n",
       "    </tr>\n",
       "  </thead>\n",
       "  <tbody>\n",
       "    <tr>\n",
       "      <th>45</th>\n",
       "      <td>Luke Skywalker</td>\n",
       "      <td>1</td>\n",
       "      <td>0</td>\n",
       "      <td>1</td>\n",
       "      <td>0</td>\n",
       "      <td>0</td>\n",
       "      <td>0</td>\n",
       "      <td>1</td>\n",
       "      <td>0</td>\n",
       "      <td>1</td>\n",
       "      <td>6</td>\n",
       "      <td>153</td>\n",
       "    </tr>\n",
       "    <tr>\n",
       "      <th>33</th>\n",
       "      <td>Han Solo</td>\n",
       "      <td>0</td>\n",
       "      <td>0</td>\n",
       "      <td>1</td>\n",
       "      <td>0</td>\n",
       "      <td>0</td>\n",
       "      <td>0</td>\n",
       "      <td>1</td>\n",
       "      <td>0</td>\n",
       "      <td>1</td>\n",
       "      <td>6</td>\n",
       "      <td>104</td>\n",
       "    </tr>\n",
       "    <tr>\n",
       "      <th>52</th>\n",
       "      <td>Obi-Wan Kenobi</td>\n",
       "      <td>1</td>\n",
       "      <td>0</td>\n",
       "      <td>1</td>\n",
       "      <td>0</td>\n",
       "      <td>0</td>\n",
       "      <td>0</td>\n",
       "      <td>1</td>\n",
       "      <td>1</td>\n",
       "      <td>0</td>\n",
       "      <td>6</td>\n",
       "      <td>101</td>\n",
       "    </tr>\n",
       "    <tr>\n",
       "      <th>23</th>\n",
       "      <td>Darth Vader</td>\n",
       "      <td>0</td>\n",
       "      <td>1</td>\n",
       "      <td>0</td>\n",
       "      <td>1</td>\n",
       "      <td>0</td>\n",
       "      <td>0</td>\n",
       "      <td>1</td>\n",
       "      <td>1</td>\n",
       "      <td>0</td>\n",
       "      <td>5</td>\n",
       "      <td>95</td>\n",
       "    </tr>\n",
       "    <tr>\n",
       "      <th>3</th>\n",
       "      <td>Anakin Skywalker</td>\n",
       "      <td>1</td>\n",
       "      <td>0</td>\n",
       "      <td>1</td>\n",
       "      <td>0</td>\n",
       "      <td>0</td>\n",
       "      <td>0</td>\n",
       "      <td>0</td>\n",
       "      <td>1</td>\n",
       "      <td>0</td>\n",
       "      <td>3</td>\n",
       "      <td>85</td>\n",
       "    </tr>\n",
       "    <tr>\n",
       "      <th>...</th>\n",
       "      <td>...</td>\n",
       "      <td>...</td>\n",
       "      <td>...</td>\n",
       "      <td>...</td>\n",
       "      <td>...</td>\n",
       "      <td>...</td>\n",
       "      <td>...</td>\n",
       "      <td>...</td>\n",
       "      <td>...</td>\n",
       "      <td>...</td>\n",
       "      <td>...</td>\n",
       "      <td>...</td>\n",
       "    </tr>\n",
       "    <tr>\n",
       "      <th>16</th>\n",
       "      <td>Captain Panaka</td>\n",
       "      <td>0</td>\n",
       "      <td>0</td>\n",
       "      <td>1</td>\n",
       "      <td>0</td>\n",
       "      <td>0</td>\n",
       "      <td>0</td>\n",
       "      <td>0</td>\n",
       "      <td>1</td>\n",
       "      <td>0</td>\n",
       "      <td>1</td>\n",
       "      <td>1</td>\n",
       "    </tr>\n",
       "    <tr>\n",
       "      <th>69</th>\n",
       "      <td>San Hill</td>\n",
       "      <td>0</td>\n",
       "      <td>0</td>\n",
       "      <td>0</td>\n",
       "      <td>1</td>\n",
       "      <td>0</td>\n",
       "      <td>0</td>\n",
       "      <td>0</td>\n",
       "      <td>1</td>\n",
       "      <td>0</td>\n",
       "      <td>1</td>\n",
       "      <td>1</td>\n",
       "    </tr>\n",
       "    <tr>\n",
       "      <th>27</th>\n",
       "      <td>Finis Valorum</td>\n",
       "      <td>0</td>\n",
       "      <td>0</td>\n",
       "      <td>0</td>\n",
       "      <td>0</td>\n",
       "      <td>0</td>\n",
       "      <td>1</td>\n",
       "      <td>0</td>\n",
       "      <td>1</td>\n",
       "      <td>0</td>\n",
       "      <td>1</td>\n",
       "      <td>1</td>\n",
       "    </tr>\n",
       "    <tr>\n",
       "      <th>65</th>\n",
       "      <td>Raymus Antilles</td>\n",
       "      <td>0</td>\n",
       "      <td>0</td>\n",
       "      <td>1</td>\n",
       "      <td>0</td>\n",
       "      <td>0</td>\n",
       "      <td>0</td>\n",
       "      <td>1</td>\n",
       "      <td>1</td>\n",
       "      <td>0</td>\n",
       "      <td>2</td>\n",
       "      <td>1</td>\n",
       "    </tr>\n",
       "    <tr>\n",
       "      <th>42</th>\n",
       "      <td>Lama Su</td>\n",
       "      <td>0</td>\n",
       "      <td>0</td>\n",
       "      <td>0</td>\n",
       "      <td>0</td>\n",
       "      <td>0</td>\n",
       "      <td>1</td>\n",
       "      <td>0</td>\n",
       "      <td>1</td>\n",
       "      <td>0</td>\n",
       "      <td>1</td>\n",
       "      <td>1</td>\n",
       "    </tr>\n",
       "  </tbody>\n",
       "</table>\n",
       "<p>84 rows × 12 columns</p>\n",
       "</div>"
      ],
      "text/plain": [
       "                Name  Jedi  Sith  Hero  Villain  BountyHunter  Neutral  \\\n",
       "45    Luke Skywalker     1     0     1        0             0        0   \n",
       "33          Han Solo     0     0     1        0             0        0   \n",
       "52    Obi-Wan Kenobi     1     0     1        0             0        0   \n",
       "23       Darth Vader     0     1     0        1             0        0   \n",
       "3   Anakin Skywalker     1     0     1        0             0        0   \n",
       "..               ...   ...   ...   ...      ...           ...      ...   \n",
       "16    Captain Panaka     0     0     1        0             0        0   \n",
       "69          San Hill     0     0     0        1             0        0   \n",
       "27     Finis Valorum     0     0     0        0             0        1   \n",
       "65   Raymus Antilles     0     0     1        0             0        0   \n",
       "42           Lama Su     0     0     0        0             0        1   \n",
       "\n",
       "    OriginalTril  PrequelTril  SequelTril  Movies  Num_Figures  \n",
       "45             1            0           1       6          153  \n",
       "33             1            0           1       6          104  \n",
       "52             1            1           0       6          101  \n",
       "23             1            1           0       5           95  \n",
       "3              0            1           0       3           85  \n",
       "..           ...          ...         ...     ...          ...  \n",
       "16             0            1           0       1            1  \n",
       "69             0            1           0       1            1  \n",
       "27             0            1           0       1            1  \n",
       "65             1            1           0       2            1  \n",
       "42             0            1           0       1            1  \n",
       "\n",
       "[84 rows x 12 columns]"
      ]
     },
     "execution_count": 34,
     "metadata": {},
     "output_type": "execute_result"
    }
   ],
   "source": [
    "char_info = all_data_df.groupby('Name')[['Jedi','Sith','Hero','Villain','BountyHunter','Neutral','OriginalTril','PrequelTril','SequelTril','Movies']].mean().reset_index()\n",
    "figure_count = all_data_df.groupby('Name').Title.count().reset_index()\n",
    "figure_count.columns = ['Name','Num_Figures']\n",
    "df_join = char_info.join(figure_count.set_index('Name'), on = 'Name', how='inner')\n",
    "df_join.sort_values('Num_Figures', ascending=False)"
   ]
  },
  {
   "cell_type": "markdown",
   "id": "48d53d28",
   "metadata": {},
   "source": [
    "We know there are a lot of characters in our Action Figures dataset that were not included in the much smaller characters dataset, but we wanted to know if there were any characters in our data that have not been made into an action figure. We found that three of our 87 characters in the characters dataset have not been made into an action figure."
   ]
  },
  {
   "cell_type": "code",
   "execution_count": 35,
   "id": "d163e667",
   "metadata": {
    "scrolled": true
   },
   "outputs": [
    {
     "data": {
      "text/html": [
       "<div>\n",
       "<style scoped>\n",
       "    .dataframe tbody tr th:only-of-type {\n",
       "        vertical-align: middle;\n",
       "    }\n",
       "\n",
       "    .dataframe tbody tr th {\n",
       "        vertical-align: top;\n",
       "    }\n",
       "\n",
       "    .dataframe thead th {\n",
       "        text-align: right;\n",
       "    }\n",
       "</style>\n",
       "<table border=\"1\" class=\"dataframe\">\n",
       "  <thead>\n",
       "    <tr style=\"text-align: right;\">\n",
       "      <th></th>\n",
       "      <th>name</th>\n",
       "      <th>height</th>\n",
       "      <th>mass</th>\n",
       "      <th>hair_color</th>\n",
       "      <th>skin_color</th>\n",
       "      <th>eye_color</th>\n",
       "      <th>birth_year</th>\n",
       "      <th>gender</th>\n",
       "      <th>homeworld</th>\n",
       "      <th>species</th>\n",
       "      <th>Jedi</th>\n",
       "      <th>Sith</th>\n",
       "      <th>Hero</th>\n",
       "      <th>Villain</th>\n",
       "      <th>BountyHunter</th>\n",
       "      <th>Neutral</th>\n",
       "      <th>OriginalTril</th>\n",
       "      <th>PrequelTril</th>\n",
       "      <th>SequelTril</th>\n",
       "      <th>Movies</th>\n",
       "    </tr>\n",
       "  </thead>\n",
       "  <tbody>\n",
       "    <tr>\n",
       "      <th>57</th>\n",
       "      <td>Cordé</td>\n",
       "      <td>157.0</td>\n",
       "      <td>NaN</td>\n",
       "      <td>brown</td>\n",
       "      <td>light</td>\n",
       "      <td>brown</td>\n",
       "      <td>Unknown</td>\n",
       "      <td>female</td>\n",
       "      <td>Naboo</td>\n",
       "      <td>Human</td>\n",
       "      <td>0</td>\n",
       "      <td>0</td>\n",
       "      <td>0</td>\n",
       "      <td>0</td>\n",
       "      <td>0</td>\n",
       "      <td>1</td>\n",
       "      <td>0</td>\n",
       "      <td>1</td>\n",
       "      <td>0</td>\n",
       "      <td>1</td>\n",
       "    </tr>\n",
       "    <tr>\n",
       "      <th>58</th>\n",
       "      <td>Cliegg Lars</td>\n",
       "      <td>183.0</td>\n",
       "      <td>NaN</td>\n",
       "      <td>brown</td>\n",
       "      <td>fair</td>\n",
       "      <td>blue</td>\n",
       "      <td>82BBY</td>\n",
       "      <td>male</td>\n",
       "      <td>Tatooine</td>\n",
       "      <td>Human</td>\n",
       "      <td>0</td>\n",
       "      <td>0</td>\n",
       "      <td>0</td>\n",
       "      <td>0</td>\n",
       "      <td>0</td>\n",
       "      <td>1</td>\n",
       "      <td>0</td>\n",
       "      <td>1</td>\n",
       "      <td>0</td>\n",
       "      <td>1</td>\n",
       "    </tr>\n",
       "    <tr>\n",
       "      <th>62</th>\n",
       "      <td>Dormé</td>\n",
       "      <td>165.0</td>\n",
       "      <td>NaN</td>\n",
       "      <td>brown</td>\n",
       "      <td>light</td>\n",
       "      <td>brown</td>\n",
       "      <td>Unknown</td>\n",
       "      <td>female</td>\n",
       "      <td>Naboo</td>\n",
       "      <td>Human</td>\n",
       "      <td>0</td>\n",
       "      <td>0</td>\n",
       "      <td>0</td>\n",
       "      <td>0</td>\n",
       "      <td>0</td>\n",
       "      <td>1</td>\n",
       "      <td>0</td>\n",
       "      <td>1</td>\n",
       "      <td>0</td>\n",
       "      <td>1</td>\n",
       "    </tr>\n",
       "  </tbody>\n",
       "</table>\n",
       "</div>"
      ],
      "text/plain": [
       "           name  height  mass hair_color skin_color eye_color birth_year  \\\n",
       "57        Cordé   157.0   NaN      brown      light     brown    Unknown   \n",
       "58  Cliegg Lars   183.0   NaN      brown       fair      blue      82BBY   \n",
       "62        Dormé   165.0   NaN      brown      light     brown    Unknown   \n",
       "\n",
       "    gender homeworld species  Jedi  Sith  Hero  Villain  BountyHunter  \\\n",
       "57  female     Naboo   Human     0     0     0        0             0   \n",
       "58    male  Tatooine   Human     0     0     0        0             0   \n",
       "62  female     Naboo   Human     0     0     0        0             0   \n",
       "\n",
       "    Neutral  OriginalTril  PrequelTril  SequelTril  Movies  \n",
       "57        1             0            1           0       1  \n",
       "58        1             0            1           0       1  \n",
       "62        1             0            1           0       1  "
      ]
     },
     "execution_count": 35,
     "metadata": {},
     "output_type": "execute_result"
    }
   ],
   "source": [
    "characters_full[characters_full.name.isin(df_join.Name) == False]"
   ]
  },
  {
   "cell_type": "markdown",
   "id": "785461b9",
   "metadata": {},
   "source": [
    "Next we needed to define our training and testing sets.\n",
    "\n",
    "Since our characters dataset was so small and we knew enough characters outside the dataset, we decided to use all of the data we had to create the training set without spliting the data"
   ]
  },
  {
   "cell_type": "code",
   "execution_count": 36,
   "id": "d5bce2ed",
   "metadata": {},
   "outputs": [],
   "source": [
    "features = ['Jedi', 'Sith', 'Hero', 'Villain', 'BountyHunter', 'Neutral',\n",
    "            'OriginalTril', 'PrequelTril', 'SequelTril', 'Movies']\n",
    "target = 'Num_Figures'\n",
    "\n",
    "X_train = df_join[features]\n",
    "y_train = df_join[target]"
   ]
  },
  {
   "cell_type": "markdown",
   "id": "d548eb2e",
   "metadata": {},
   "source": [
    "For the test set, we used our Star Wars knowledge to create a file `AddedCharacters.csv` which included characters to make up our test data that were in our action figures dataset but not in our small characters dataset."
   ]
  },
  {
   "cell_type": "code",
   "execution_count": 37,
   "id": "75aa0d54",
   "metadata": {},
   "outputs": [
    {
     "data": {
      "text/html": [
       "<div>\n",
       "<style scoped>\n",
       "    .dataframe tbody tr th:only-of-type {\n",
       "        vertical-align: middle;\n",
       "    }\n",
       "\n",
       "    .dataframe tbody tr th {\n",
       "        vertical-align: top;\n",
       "    }\n",
       "\n",
       "    .dataframe thead th {\n",
       "        text-align: right;\n",
       "    }\n",
       "</style>\n",
       "<table border=\"1\" class=\"dataframe\">\n",
       "  <thead>\n",
       "    <tr style=\"text-align: right;\">\n",
       "      <th></th>\n",
       "      <th>Name</th>\n",
       "      <th>Jedi</th>\n",
       "      <th>Sith</th>\n",
       "      <th>Hero</th>\n",
       "      <th>Villain</th>\n",
       "      <th>BountyHunter</th>\n",
       "      <th>Neutral</th>\n",
       "      <th>OriginalTril</th>\n",
       "      <th>PrequelTril</th>\n",
       "      <th>SequelTril</th>\n",
       "      <th>Movies</th>\n",
       "      <th>Num_Figures</th>\n",
       "    </tr>\n",
       "  </thead>\n",
       "  <tbody>\n",
       "    <tr>\n",
       "      <th>0</th>\n",
       "      <td>Coleman Trebor</td>\n",
       "      <td>1</td>\n",
       "      <td>0</td>\n",
       "      <td>1</td>\n",
       "      <td>0</td>\n",
       "      <td>0</td>\n",
       "      <td>0</td>\n",
       "      <td>0</td>\n",
       "      <td>1</td>\n",
       "      <td>0</td>\n",
       "      <td>1</td>\n",
       "      <td>2</td>\n",
       "    </tr>\n",
       "    <tr>\n",
       "      <th>1</th>\n",
       "      <td>Clegg Holdfast</td>\n",
       "      <td>0</td>\n",
       "      <td>0</td>\n",
       "      <td>0</td>\n",
       "      <td>0</td>\n",
       "      <td>0</td>\n",
       "      <td>1</td>\n",
       "      <td>0</td>\n",
       "      <td>1</td>\n",
       "      <td>0</td>\n",
       "      <td>1</td>\n",
       "      <td>2</td>\n",
       "    </tr>\n",
       "    <tr>\n",
       "      <th>2</th>\n",
       "      <td>Agen Kolar</td>\n",
       "      <td>1</td>\n",
       "      <td>0</td>\n",
       "      <td>1</td>\n",
       "      <td>0</td>\n",
       "      <td>0</td>\n",
       "      <td>0</td>\n",
       "      <td>0</td>\n",
       "      <td>1</td>\n",
       "      <td>0</td>\n",
       "      <td>2</td>\n",
       "      <td>4</td>\n",
       "    </tr>\n",
       "    <tr>\n",
       "      <th>3</th>\n",
       "      <td>Mars Guo</td>\n",
       "      <td>0</td>\n",
       "      <td>0</td>\n",
       "      <td>0</td>\n",
       "      <td>0</td>\n",
       "      <td>0</td>\n",
       "      <td>1</td>\n",
       "      <td>0</td>\n",
       "      <td>1</td>\n",
       "      <td>0</td>\n",
       "      <td>1</td>\n",
       "      <td>2</td>\n",
       "    </tr>\n",
       "    <tr>\n",
       "      <th>4</th>\n",
       "      <td>Sephjet Josall</td>\n",
       "      <td>1</td>\n",
       "      <td>0</td>\n",
       "      <td>1</td>\n",
       "      <td>0</td>\n",
       "      <td>0</td>\n",
       "      <td>0</td>\n",
       "      <td>0</td>\n",
       "      <td>1</td>\n",
       "      <td>0</td>\n",
       "      <td>1</td>\n",
       "      <td>1</td>\n",
       "    </tr>\n",
       "    <tr>\n",
       "      <th>5</th>\n",
       "      <td>Yaddle</td>\n",
       "      <td>1</td>\n",
       "      <td>0</td>\n",
       "      <td>1</td>\n",
       "      <td>0</td>\n",
       "      <td>0</td>\n",
       "      <td>0</td>\n",
       "      <td>0</td>\n",
       "      <td>1</td>\n",
       "      <td>0</td>\n",
       "      <td>1</td>\n",
       "      <td>2</td>\n",
       "    </tr>\n",
       "    <tr>\n",
       "      <th>6</th>\n",
       "      <td>Constable Zuvio</td>\n",
       "      <td>0</td>\n",
       "      <td>0</td>\n",
       "      <td>0</td>\n",
       "      <td>0</td>\n",
       "      <td>0</td>\n",
       "      <td>1</td>\n",
       "      <td>0</td>\n",
       "      <td>0</td>\n",
       "      <td>1</td>\n",
       "      <td>1</td>\n",
       "      <td>1</td>\n",
       "    </tr>\n",
       "    <tr>\n",
       "      <th>7</th>\n",
       "      <td>Ody Mandrell</td>\n",
       "      <td>0</td>\n",
       "      <td>0</td>\n",
       "      <td>0</td>\n",
       "      <td>0</td>\n",
       "      <td>0</td>\n",
       "      <td>1</td>\n",
       "      <td>0</td>\n",
       "      <td>1</td>\n",
       "      <td>0</td>\n",
       "      <td>1</td>\n",
       "      <td>1</td>\n",
       "    </tr>\n",
       "    <tr>\n",
       "      <th>8</th>\n",
       "      <td>Mawhonic</td>\n",
       "      <td>0</td>\n",
       "      <td>0</td>\n",
       "      <td>0</td>\n",
       "      <td>0</td>\n",
       "      <td>0</td>\n",
       "      <td>1</td>\n",
       "      <td>0</td>\n",
       "      <td>1</td>\n",
       "      <td>0</td>\n",
       "      <td>1</td>\n",
       "      <td>2</td>\n",
       "    </tr>\n",
       "    <tr>\n",
       "      <th>9</th>\n",
       "      <td>Ask Aak</td>\n",
       "      <td>0</td>\n",
       "      <td>0</td>\n",
       "      <td>0</td>\n",
       "      <td>0</td>\n",
       "      <td>0</td>\n",
       "      <td>1</td>\n",
       "      <td>0</td>\n",
       "      <td>1</td>\n",
       "      <td>0</td>\n",
       "      <td>2</td>\n",
       "      <td>1</td>\n",
       "    </tr>\n",
       "  </tbody>\n",
       "</table>\n",
       "</div>"
      ],
      "text/plain": [
       "              Name  Jedi  Sith  Hero  Villain  BountyHunter  Neutral  \\\n",
       "0   Coleman Trebor     1     0     1        0             0        0   \n",
       "1   Clegg Holdfast     0     0     0        0             0        1   \n",
       "2       Agen Kolar     1     0     1        0             0        0   \n",
       "3         Mars Guo     0     0     0        0             0        1   \n",
       "4   Sephjet Josall     1     0     1        0             0        0   \n",
       "5           Yaddle     1     0     1        0             0        0   \n",
       "6  Constable Zuvio     0     0     0        0             0        1   \n",
       "7     Ody Mandrell     0     0     0        0             0        1   \n",
       "8         Mawhonic     0     0     0        0             0        1   \n",
       "9          Ask Aak     0     0     0        0             0        1   \n",
       "\n",
       "   OriginalTril  PrequelTril  SequelTril  Movies  Num_Figures  \n",
       "0             0            1           0       1            2  \n",
       "1             0            1           0       1            2  \n",
       "2             0            1           0       2            4  \n",
       "3             0            1           0       1            2  \n",
       "4             0            1           0       1            1  \n",
       "5             0            1           0       1            2  \n",
       "6             0            0           1       1            1  \n",
       "7             0            1           0       1            1  \n",
       "8             0            1           0       1            2  \n",
       "9             0            1           0       2            1  "
      ]
     },
     "execution_count": 37,
     "metadata": {},
     "output_type": "execute_result"
    }
   ],
   "source": [
    "test_df = pd.read_csv('data/AddedCharacters.csv')\n",
    "figureTotals = actionFigures.groupby('Name').Title.count().reset_index()\n",
    "figureTotals.columns = ['Name','Num_Figures']\n",
    "test_df_join = test_df.join(figureTotals.set_index('Name'), on = 'Name', how='inner').reset_index().drop(columns=['index'])\n",
    "X_test = test_df_join[features]\n",
    "y_test = test_df_join[target]\n",
    "test_df_join.head(10)"
   ]
  },
  {
   "cell_type": "markdown",
   "id": "14bdeca9",
   "metadata": {},
   "source": [
    "### k-Nearest Neighbors Regressor (k = 3)"
   ]
  },
  {
   "cell_type": "code",
   "execution_count": 38,
   "id": "54736c73",
   "metadata": {},
   "outputs": [
    {
     "name": "stdout",
     "output_type": "stream",
     "text": [
      "Train Score: 0.7552492985143455\n",
      "Test Score: 0.17293480806199535\n"
     ]
    }
   ],
   "source": [
    "from sklearn.neighbors import KNeighborsRegressor\n",
    "\n",
    "knn = KNeighborsRegressor(n_neighbors=3)\n",
    "knn.fit(X_train,y_train)\n",
    "scores = {'Model':['kNN Regressor'],'Training_Score':[knn.score(X_train,y_train)], 'Testing_Score':[knn.score(X_test,y_test)]}\n",
    "\n",
    "scores_df = pd.DataFrame(scores)\n",
    "df_join['predKNN'] = knn.predict(X_train)\n",
    "test_df_join['predKNN'] = knn.predict(X_test)\n",
    "\n",
    "print(\"Train Score: \" + str(knn.score(X_train,y_train)))\n",
    "print(\"Test Score: \" + str(knn.score(X_test,y_test)))"
   ]
  },
  {
   "cell_type": "markdown",
   "id": "526b4990",
   "metadata": {},
   "source": [
    "### Linear Regression"
   ]
  },
  {
   "cell_type": "code",
   "execution_count": 39,
   "id": "ea3b0df6",
   "metadata": {},
   "outputs": [
    {
     "name": "stdout",
     "output_type": "stream",
     "text": [
      "Train Score: 0.6023154258515568\n",
      "Test Score: -0.07377894003038388\n"
     ]
    }
   ],
   "source": [
    "from sklearn.linear_model import LinearRegression\n",
    "\n",
    "lr = LinearRegression()\n",
    "lr.fit(X_train,y_train)\n",
    "scores = {'Model':'Linear Regression','Training_Score':lr.score(X_train,y_train), 'Testing_Score':lr.score(X_test,y_test)}\n",
    "\n",
    "scores_df = scores_df.append(scores, ignore_index = True)\n",
    "df_join['predLR'] = lr.predict(X_train)\n",
    "test_df_join['predLR'] = lr.predict(X_test)\n",
    "\n",
    "print(\"Train Score: \" + str(lr.score(X_train,y_train)))\n",
    "print(\"Test Score: \" + str(lr.score(X_test,y_test)))"
   ]
  },
  {
   "cell_type": "markdown",
   "id": "d13ddced",
   "metadata": {},
   "source": [
    "### Decision Tree Regression"
   ]
  },
  {
   "cell_type": "code",
   "execution_count": 40,
   "id": "fef0f1be",
   "metadata": {},
   "outputs": [
    {
     "name": "stdout",
     "output_type": "stream",
     "text": [
      "Train Score: 0.8821211486747319\n",
      "Test Score: -0.11694880110223416\n"
     ]
    }
   ],
   "source": [
    "from sklearn.tree import DecisionTreeRegressor\n",
    "\n",
    "dtr = DecisionTreeRegressor()\n",
    "dtr.fit(X_train,y_train)\n",
    "scores = {'Model':'Decision Tree Regressor','Training_Score':dtr.score(X_train,y_train), 'Testing_Score':dtr.score(X_test,y_test)}\n",
    "\n",
    "scores_df = scores_df.append(scores, ignore_index = True)\n",
    "df_join['predDT'] = dtr.predict(X_train)\n",
    "test_df_join['predDT'] = dtr.predict(X_test)\n",
    "\n",
    "print(\"Train Score: \" + str(dtr.score(X_train,y_train)))\n",
    "print(\"Test Score: \" + str(dtr.score(X_test,y_test)))"
   ]
  },
  {
   "cell_type": "markdown",
   "id": "d71a1b61",
   "metadata": {},
   "source": [
    "### Model Evaluation\n",
    "To see the scores for these models all side by side, we added all the scores to one dataframe `scores_df`. \n",
    "\n",
    "We can see here that our training scores are much higher than our testing scores.  This is likely due to the fact that the training and testing sets aren't true random.  All of the main characters were included in the characters dataset from Kaggle, whereas the characters in our test set are more minor background characters that we may not even be referenced by name during the movie.  This meant main of the characters in our training set have been made into action figures many more times than the characters in the test data.\n",
    "\n",
    "If we had a larger characters dataset to train with in the beginning that would could have split into train/test sets, then we would expect to see some better scores for the test data."
   ]
  },
  {
   "cell_type": "code",
   "execution_count": 41,
   "id": "eded7259",
   "metadata": {},
   "outputs": [
    {
     "data": {
      "text/html": [
       "<div>\n",
       "<style scoped>\n",
       "    .dataframe tbody tr th:only-of-type {\n",
       "        vertical-align: middle;\n",
       "    }\n",
       "\n",
       "    .dataframe tbody tr th {\n",
       "        vertical-align: top;\n",
       "    }\n",
       "\n",
       "    .dataframe thead th {\n",
       "        text-align: right;\n",
       "    }\n",
       "</style>\n",
       "<table border=\"1\" class=\"dataframe\">\n",
       "  <thead>\n",
       "    <tr style=\"text-align: right;\">\n",
       "      <th></th>\n",
       "      <th>Model</th>\n",
       "      <th>Training_Score</th>\n",
       "      <th>Testing_Score</th>\n",
       "    </tr>\n",
       "  </thead>\n",
       "  <tbody>\n",
       "    <tr>\n",
       "      <th>0</th>\n",
       "      <td>kNN Regressor</td>\n",
       "      <td>0.755249</td>\n",
       "      <td>0.172935</td>\n",
       "    </tr>\n",
       "    <tr>\n",
       "      <th>1</th>\n",
       "      <td>Linear Regression</td>\n",
       "      <td>0.602315</td>\n",
       "      <td>-0.073779</td>\n",
       "    </tr>\n",
       "    <tr>\n",
       "      <th>2</th>\n",
       "      <td>Decision Tree Regressor</td>\n",
       "      <td>0.882121</td>\n",
       "      <td>-0.116949</td>\n",
       "    </tr>\n",
       "  </tbody>\n",
       "</table>\n",
       "</div>"
      ],
      "text/plain": [
       "                     Model  Training_Score  Testing_Score\n",
       "0            kNN Regressor        0.755249       0.172935\n",
       "1        Linear Regression        0.602315      -0.073779\n",
       "2  Decision Tree Regressor        0.882121      -0.116949"
      ]
     },
     "execution_count": 41,
     "metadata": {},
     "output_type": "execute_result"
    }
   ],
   "source": [
    "scores_df"
   ]
  },
  {
   "cell_type": "markdown",
   "id": "5e69d626",
   "metadata": {},
   "source": [
    "### Challenges Throughout the Project\n",
    "The biggest challenges we faced throughout this project all had to deal with the data we were working with. We didn't realize how few characters were included in the characters dataset. This severely hindered our ability to try to answer our question on what makes a character more likely to be made into an action figure. If we had more data, our machine learning models could have been improved due to more data points to train the models on.  Our limited dataset made it difficult to achieve the goals we were initially looking to reach when we started the project."
   ]
  }
 ],
 "metadata": {
  "kernelspec": {
   "display_name": "Python 3",
   "language": "python",
   "name": "python3"
  },
  "language_info": {
   "codemirror_mode": {
    "name": "ipython",
    "version": 3
   },
   "file_extension": ".py",
   "mimetype": "text/x-python",
   "name": "python",
   "nbconvert_exporter": "python",
   "pygments_lexer": "ipython3",
   "version": "3.7.5"
  }
 },
 "nbformat": 4,
 "nbformat_minor": 5
}
